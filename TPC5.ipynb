{
 "cells": [
  {
   "cell_type": "markdown",
   "metadata": {},
   "source": [
    "# __TPC5__: Calculadora de Polinómios\n"
   ]
  },
  {
   "cell_type": "markdown",
   "metadata": {},
   "source": [
    "#### Aluno: Sara Afonso Fernandes, a97615\n",
    "#### Data de início: 2021-11-17\n",
    "#### Data de término: 2021-11-18\n",
    "#### Supervisor: José Carlos Ramalho ; https://www.di.uminho.pt/~jcr/\n",
    "#### Resumo: Comecei por criar um \"Menu\" , onde coloquei as operações que a calculadora é capaz de executar e,seguidamente, peço ao utilizador que opção pretende. \n",
    "#### De seguida foram criadas diversas funções, nomeadamente para criar polinómios, para calcular o polinómio num ponto(substituindo o nosso x pelo ponto que o utilizador pediu), calcular a derivada, etc. Depois da função executar o que foi pedido pelo utilizador, mostra-lhe o resultado.\n",
    "#### Desta forma temos uma calculadora de polinómios.\n",
    "\n"
   ]
  },
  {
   "cell_type": "code",
   "execution_count": null,
   "metadata": {},
   "outputs": [],
   "source": [
    "def menu():\n",
    "    print('''\n",
    "(1) Criar um Polinómio\n",
    "(2) Listar o Polinómio\n",
    "(3) Grau do Polinómio\n",
    "(4) Calcular o Polinómio num ponto\n",
    "(5) Calcular a derivada de um Polinómio\n",
    "(6) Somar dois Polinómios\n",
    "(7) Simplificar um Polinómio\n",
    "(8) Ver a Tabela\n",
    "...\n",
    "(0) Sair\n",
    "    ''')\n",
    "menu()\n",
    "\n",
    "def escolha(polinomio):\n",
    "    opcao=int(input(\"Qual o número da operação que deseja fazer:\"))\n",
    "    if opcao==1:\n",
    "        termos=int(input(\"Quer um polinómio com quantos termos?: \"))\n",
    "        poli=criarPolinomio()\n",
    "        while termos>0:\n",
    "            c=int(input(\"Diga qual o coeficiente do Termo:\"))\n",
    "            e=int(input(\"Diga qual o expoente do Termo: \"))\n",
    "            termo=criarTermo(c,e)\n",
    "            inserirTermo(poli,termo)\n",
    "            termos-=1\n",
    "        print(verPolinomio(poli))   \n",
    "        polinomio=poli\n",
    "     #elif opcao==2:\n",
    "        #subtracao()\n",
    "    elif opcao==3: \n",
    "        print(grauPol(polinomio))\n",
    "    \n",
    "    elif opcao==4:\n",
    "        x=int(input(\"Indique o ponto onde quer que seja calculado o Polinómio:\"))\n",
    "        print(calcPol(polinomio,x))\n",
    "    elif opcao==5:\n",
    "        print(verPolinomio(derivarPol(polinomio)))\n",
    "    #elif opcao==6:\n",
    "        \n",
    "    #elif opcao==7:\n",
    "        \n",
    "    elif opcao==8:\n",
    "        linhas=int(input(\"Introduza o número de linhas da tabela:\"))\n",
    "        tabela(polinomio,linhas)\n",
    "        \n",
    "    elif opcao==0:\n",
    "        return -1    \n",
    "    else:\n",
    "        print(\"Opção inválida!\")\n",
    "    escolha(polinomio)\n",
    "    \n",
    "pol=criarPolinomio()\n",
    "escolha(pol)  "
   ]
  },
  {
   "cell_type": "code",
   "execution_count": null,
   "metadata": {},
   "outputs": [],
   "source": [
    "def criarTermo(coef,exp):\n",
    "    return (coef,exp) \n",
    "\n",
    "def criarPolinomio(): \n",
    "    return []\n",
    "\n",
    "def inserirTermo(p,t): \n",
    "    p.append(t)\n"
   ]
  },
  {
   "cell_type": "code",
   "execution_count": null,
   "metadata": {},
   "outputs": [],
   "source": [
    "def verTermo(t):\n",
    "    c,e=t\n",
    "    if e==0:\n",
    "        return(str(c))\n",
    "    elif e==1:\n",
    "        return(str(c)+\"x\")\n",
    "    elif c==1:\n",
    "        return(\"x^\"+str(e))\n",
    "    else:\n",
    "        return(str(c)+\"x^\"+str(e)) \n",
    "\n",
    "def verPolinomio(p): \n",
    "    politexto=\" \"\n",
    "    if len(p)!=0: \n",
    "        politexto=verTermo(p[0])\n",
    "        for i in range (1,len(p)):\n",
    "            if(p[i][0]>=0):\n",
    "                politexto=politexto + \"+\" + verTermo(p[i])\n",
    "            else:\n",
    "                politexto=politexto + verTermo(p[i])\n",
    "    return(politexto)\n",
    "    "
   ]
  },
  {
   "cell_type": "code",
   "execution_count": null,
   "metadata": {},
   "outputs": [],
   "source": [
    "def grauPol(p):\n",
    "    grau=p[0][1] \n",
    "    for i in range (1,len(p)):\n",
    "        if (p[i][1]>grau):\n",
    "            grau=p[i][1]\n",
    "    return grau"
   ]
  },
  {
   "cell_type": "code",
   "execution_count": null,
   "metadata": {},
   "outputs": [],
   "source": [
    "def calcPol(p,x):\n",
    "    valor=0\n",
    "    for i in range (len(p)):\n",
    "        valor+=p[i][0]*(x**p[i][1])\n",
    "    return valor"
   ]
  },
  {
   "cell_type": "code",
   "execution_count": null,
   "metadata": {},
   "outputs": [],
   "source": [
    "def tabela(p,linhas):\n",
    "    print(\"x\"+\"::\"+ verPolinomio(p))\n",
    "    for l in range (0,linhas):\n",
    "        print(str(l)+\"::\"+ str(calcPol(p,l)))      \n",
    "    "
   ]
  },
  {
   "cell_type": "code",
   "execution_count": null,
   "metadata": {},
   "outputs": [],
   "source": [
    "def derivarPol(p):\n",
    "    derivada=[]\n",
    "    for (c,e) in p:\n",
    "        if e!= 0:\n",
    "            derivada.append((c*e,e-1))\n",
    "    return derivada\n",
    "    "
   ]
  },
  {
   "cell_type": "code",
   "execution_count": null,
   "metadata": {},
   "outputs": [],
   "source": [
    "def somaPol(p1,p2):\n",
    "    c1,e1=p1\n",
    "    c2,e2=p1\n",
    "    "
   ]
  },
  {
   "cell_type": "code",
   "execution_count": null,
   "metadata": {},
   "outputs": [],
   "source": []
  }
 ],
 "metadata": {
  "kernelspec": {
   "display_name": "Python 3",
   "language": "python",
   "name": "python3"
  },
  "language_info": {
   "codemirror_mode": {
    "name": "ipython",
    "version": 3
   },
   "file_extension": ".py",
   "mimetype": "text/x-python",
   "name": "python",
   "nbconvert_exporter": "python",
   "pygments_lexer": "ipython3",
   "version": "3.8.3"
  }
 },
 "nbformat": 4,
 "nbformat_minor": 4
}
