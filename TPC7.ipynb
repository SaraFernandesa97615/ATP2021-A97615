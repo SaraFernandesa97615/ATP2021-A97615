{
 "cells": [
  {
   "cell_type": "markdown",
   "metadata": {},
   "source": [
    "#### Aluno: Sara Afonso Fernandes,a97615\n",
    "#### Data de início: 2021-11-25\n",
    "#### Data de término: 2021-12-02\n",
    "#### Supervisor: José Carlos Ramalho ; https://www.di.uminho.pt/~jcr/\n",
    "#### Resumo: Em primeiro lugar foi criada uma base de dados (que é uma lista de dicionários,sendo que cada dicionário contém a informação de um aluno). De seguida, foi feita uma função que expôs a informação dos alunos em forma de tabela, através de um ciclo que percorre cada aluno da lista e depois é feito um print da informação em cada chave do dicionário.\n",
    "#### Para consultar um registo, foi necessário da mesma maneira percorrer cada aluno da lista *BDalunos* e substituir as aspas existentes na chave do dicionário por um espaço, de maneira a que a string dada pelo utilizador do id do aluno pudesse ser igual ao id existente no dicionário.\n",
    "#### No exercício 4 o raciocínio utilizado foi criar uma lista cujas chaves são os valores da média e adicionar a informação de cada pessoa com essa média à correspondente chave. Nos exercícios 5 e 6 foi criado um novo dicionário cujo objetivo é registar a ocorrência de alunos num curso (exercício 5) ou com uma determinada média de tpc(exercício 6). Nos exercícios 7 e 8, para a formação dos gráficos de barras, foram usadas as informações dos exercícios anteriores."
   ]
  },
  {
   "cell_type": "markdown",
   "metadata": {},
   "source": [
    "### __Modelo de base de dados__\n",
    "#### BDalunos=[aluno]\n",
    "#### Aluno={\"id\": __ , \"nome\":__ ,\"curso\":__,\"tpc\":[int] }"
   ]
  },
  {
   "cell_type": "markdown",
   "metadata": {},
   "source": [
    "## Leitura (exercício 1)\n",
    "\n",
    "Depois de pensares num modelo adequado especifica a função que lê o ficheiro e povoa esse modelo."
   ]
  },
  {
   "cell_type": "code",
   "execution_count": 4,
   "metadata": {},
   "outputs": [],
   "source": [
    "# Descreve em texto o teu modelo\n",
    "\n",
    "# Leitura/carregamento da informação do ficheiro\n",
    "def lerDataset(fnome):\n",
    "    bd=[]\n",
    "    f=open(fnome,encoding=\"utf-8\")\n",
    "    f.readline()#Vai ler já a primeira linha de forma a que quando entrar no ciclo de for já esteje a ler a partir da mesma\n",
    "    for linha in f: #Já vai iterar na segunda linha\n",
    "        novaLinha= linha.replace(\"\\n\",\"\") #Tirar o \"\\n\" de maneira universal\n",
    "        campos=novaLinha.split(\",\")\n",
    "        aluno={}\n",
    "        aluno[\"id\"]=campos[0]\n",
    "        aluno[\"nome\"]=campos[1]\n",
    "        aluno[\"curso\"]=campos[2]\n",
    "        listaTPC=[]\n",
    "        for tpc in campos[3:]: #Lista de inteiros\n",
    "            listaTPC.append(int(tpc))\n",
    "        aluno[\"tpc\"]=listaTPC #do 3º índice até ao fim\n",
    "        bd.append(aluno)\n",
    "    return bd\n",
    "\n",
    "#Problemas na primeira realização:\n",
    "#É preciso tirar a primeira linha (porque é vazia); \n",
    "#Retirar o \"\\n\"\n",
    "#Os números da quantificação do tpc estão em forma de strings\n"
   ]
  },
  {
   "cell_type": "code",
   "execution_count": 5,
   "metadata": {
    "collapsed": true,
    "jupyter": {
     "outputs_hidden": true
    }
   },
   "outputs": [
    {
     "name": "stdout",
     "output_type": "stream",
     "text": [
      "[{'id': '\"a1\"', 'nome': '\"Aysha Melanie Gilberto\"', 'curso': '\"LEI\"', 'tpc': [12, 8, 19, 8]}, {'id': '\"a2\"', 'nome': '\"Igor André Cantanhede\"', 'curso': '\"ENGFIS\"', 'tpc': [12, 16, 18, 20]}, {'id': '\"a3\"', 'nome': '\"Laurénio Narciso\"', 'curso': '\"ENGFIS\"', 'tpc': [8, 14, 15, 14]}, {'id': '\"a4\"', 'nome': '\"Jasnoor Casegas\"', 'curso': '\"LCC\"', 'tpc': [14, 20, 17, 11]}, {'id': '\"a5\"', 'nome': '\"Tawseef Rebouças\"', 'curso': '\"ENGBIOM\"', 'tpc': [13, 14, 13, 17]}, {'id': '\"a6\"', 'nome': '\"Eryk Clementino\"', 'curso': '\"LEI\"', 'tpc': [10, 19, 11, 14]}, {'id': '\"a7\"', 'nome': '\"Ianna Noivo\"', 'curso': '\"ENGBIOM\"', 'tpc': [15, 15, 17, 16]}, {'id': '\"a8\"', 'nome': '\"Ayla Thaissa Reina\"', 'curso': '\"ENGBIOM\"', 'tpc': [12, 8, 8, 18]}, {'id': '\"a9\"', 'nome': '\"Cássia Viviane Coitã\"', 'curso': '\"ENGFIS\"', 'tpc': [19, 9, 14, 10]}, {'id': '\"a10\"', 'nome': '\"Koby Vindima\"', 'curso': '\"LEI\"', 'tpc': [9, 14, 20, 13]}, {'id': '\"a11\"', 'nome': '\"Gustavo Martim Hernandez\"', 'curso': '\"ENGBIOM\"', 'tpc': [11, 8, 14, 11]}, {'id': '\"a12\"', 'nome': '\"Siddarta Beiriz\"', 'curso': '\"LEI\"', 'tpc': [17, 10, 16, 16]}, {'id': '\"a13\"', 'nome': '\"Daniela Patrícia Montes\"', 'curso': '\"ENGBIOM\"', 'tpc': [15, 15, 18, 19]}, {'id': '\"a14\"', 'nome': '\"Kaylla Pessego\"', 'curso': '\"LCC\"', 'tpc': [10, 14, 17, 15]}, {'id': '\"a15\"', 'nome': '\"Bianca Cristina Primitivo\"', 'curso': '\"ENGBIOM\"', 'tpc': [16, 9, 18, 10]}, {'id': '\"a16\"', 'nome': '\"Magna Galhardo\"', 'curso': '\"ENGFIS\"', 'tpc': [20, 18, 9, 14]}, {'id': '\"a17\"', 'nome': '\"Grace Isabel Patriarca\"', 'curso': '\"LCC\"', 'tpc': [19, 13, 9, 10]}, {'id': '\"a18\"', 'nome': '\"Saubhagya Buco\"', 'curso': '\"LEI\"', 'tpc': [18, 18, 17, 8]}, {'id': '\"a19\"', 'nome': '\"Ivo Vicente Boisa\"', 'curso': '\"ENGBIOM\"', 'tpc': [14, 10, 18, 13]}, {'id': '\"a20\"', 'nome': '\"Vivaan Castilhos\"', 'curso': '\"ENGFIS\"', 'tpc': [15, 14, 11, 12]}, {'id': '\"a21\"', 'nome': '\"Layana Camejo\"', 'curso': '\"ENGFIS\"', 'tpc': [17, 12, 10, 20]}, {'id': '\"a22\"', 'nome': '\"Mahdi Menoita\"', 'curso': '\"ENGFIS\"', 'tpc': [11, 16, 8, 16]}, {'id': '\"a23\"', 'nome': '\"Yifan Cortinado\"', 'curso': '\"LEI\"', 'tpc': [19, 16, 8, 18]}, {'id': '\"a24\"', 'nome': '\"Éder Sodré\"', 'curso': '\"ENGFIS\"', 'tpc': [17, 13, 14, 12]}, {'id': '\"a25\"', 'nome': '\"Dhriti Magano\"', 'curso': '\"ENGFIS\"', 'tpc': [19, 11, 8, 19]}, {'id': '\"a26\"', 'nome': '\"Steve Devesa\"', 'curso': '\"ENGBIOM\"', 'tpc': [10, 16, 8, 13]}, {'id': '\"a27\"', 'nome': '\"Lisandro Mariano Picassinos\"', 'curso': '\"ENGFIS\"', 'tpc': [13, 10, 16, 10]}, {'id': '\"a28\"', 'nome': '\"Itiel Quinoy\"', 'curso': '\"LEI\"', 'tpc': [18, 18, 8, 9]}, {'id': '\"a29\"', 'nome': '\"Pranika Reimoo\"', 'curso': '\"LEI\"', 'tpc': [12, 16, 15, 13]}, {'id': '\"a30\"', 'nome': '\"Manaia Viseu\"', 'curso': '\"ENGFIS\"', 'tpc': [8, 12, 20, 11]}, {'id': '\"a31\"', 'nome': '\"Eva Manuel Caio\"', 'curso': '\"ENGFIS\"', 'tpc': [12, 16, 20, 16]}, {'id': '\"a32\"', 'nome': '\"Ariane Sofia Foja\"', 'curso': '\"LEI\"', 'tpc': [20, 19, 13, 18]}, {'id': '\"a33\"', 'nome': '\"Jaime António Pauseiro\"', 'curso': '\"LCC\"', 'tpc': [19, 13, 8, 10]}, {'id': '\"a34\"', 'nome': '\"Tanisha Marzagoo\"', 'curso': '\"ENGBIOM\"', 'tpc': [14, 19, 13, 14]}, {'id': '\"a35\"', 'nome': '\"Siyon Anca\"', 'curso': '\"LEI\"', 'tpc': [8, 13, 19, 15]}, {'id': '\"a36\"', 'nome': '\"Diana Beatriz Boavista\"', 'curso': '\"LCC\"', 'tpc': [19, 18, 17, 12]}, {'id': '\"a37\"', 'nome': '\"Elisiário Saberio\"', 'curso': '\"ENGFIS\"', 'tpc': [18, 18, 10, 19]}, {'id': '\"a38\"', 'nome': '\"Maira Brites\"', 'curso': '\"ENGFIS\"', 'tpc': [13, 16, 15, 17]}, {'id': '\"a39\"', 'nome': '\"Victória Gabriela Incenso\"', 'curso': '\"LEI\"', 'tpc': [17, 14, 13, 8]}, {'id': '\"a40\"', 'nome': '\"Najua Serôdio\"', 'curso': '\"LCC\"', 'tpc': [17, 9, 16, 18]}, {'id': '\"a41\"', 'nome': '\"Lachezar Rosas\"', 'curso': '\"ENGBIOM\"', 'tpc': [16, 18, 18, 15]}, {'id': '\"a42\"', 'nome': '\"Kattleya Trigueiro\"', 'curso': '\"ENGFIS\"', 'tpc': [19, 16, 14, 15]}, {'id': '\"a43\"', 'nome': '\"Tatiana Guiomar Maricoto\"', 'curso': '\"LCC\"', 'tpc': [19, 8, 15, 11]}, {'id': '\"a44\"', 'nome': '\"Mélanie Daniela Bugalhão\"', 'curso': '\"LCC\"', 'tpc': [17, 9, 17, 18]}, {'id': '\"a45\"', 'nome': '\"Imayame Hespanha\"', 'curso': '\"ENGFIS\"', 'tpc': [20, 17, 19, 11]}, {'id': '\"a46\"', 'nome': '\"Yuri Gabriel Baganha\"', 'curso': '\"LCC\"', 'tpc': [15, 18, 12, 16]}, {'id': '\"a47\"', 'nome': '\"Moisés João Cornelio\"', 'curso': '\"LEI\"', 'tpc': [20, 16, 19, 17]}, {'id': '\"a48\"', 'nome': '\"Nazir Assif Trinta\"', 'curso': '\"LEI\"', 'tpc': [14, 14, 12, 8]}, {'id': '\"a49\"', 'nome': '\"Karamjot Arezes\"', 'curso': '\"LEI\"', 'tpc': [10, 9, 20, 12]}, {'id': '\"a50\"', 'nome': '\"Rishit Justa\"', 'curso': '\"ENGBIOM\"', 'tpc': [9, 9, 9, 12]}, {'id': '\"a51\"', 'nome': '\"Iara de Jesus Gonçalo\"', 'curso': '\"ENGFIS\"', 'tpc': [14, 8, 12, 14]}, {'id': '\"a52\"', 'nome': '\"Stepfan Owusu Lercas\"', 'curso': '\"LEI\"', 'tpc': [18, 9, 16, 14]}, {'id': '\"a53\"', 'nome': '\"Abner Umbelina\"', 'curso': '\"ENGBIOM\"', 'tpc': [20, 16, 10, 13]}, {'id': '\"a54\"', 'nome': '\"Dânia Lucy Montelobo\"', 'curso': '\"LEI\"', 'tpc': [18, 19, 15, 11]}, {'id': '\"a55\"', 'nome': '\"Myla Lopez\"', 'curso': '\"ENGFIS\"', 'tpc': [9, 17, 12, 20]}, {'id': '\"a56\"', 'nome': '\"Hakeem Brazão\"', 'curso': '\"LEI\"', 'tpc': [18, 18, 13, 20]}, {'id': '\"a57\"', 'nome': '\"Quinn Aveiro\"', 'curso': '\"ENGBIOM\"', 'tpc': [17, 16, 9, 13]}, {'id': '\"a58\"', 'nome': '\"Etienne Constentino\"', 'curso': '\"ENGBIOM\"', 'tpc': [15, 8, 9, 13]}, {'id': '\"a59\"', 'nome': '\"Emanuel Marcos Delfina\"', 'curso': '\"LEI\"', 'tpc': [9, 15, 8, 13]}, {'id': '\"a60\"', 'nome': '\"Mariana Catarina Ramalheira\"', 'curso': '\"ENGBIOM\"', 'tpc': [17, 19, 19, 11]}, {'id': '\"a61\"', 'nome': '\"Bradley Tabau\"', 'curso': '\"LCC\"', 'tpc': [16, 19, 16, 12]}, {'id': '\"a62\"', 'nome': '\"Ahmadou Bamba Calcinha\"', 'curso': '\"LCC\"', 'tpc': [13, 20, 8, 16]}, {'id': '\"a63\"', 'nome': '\"Francisco Pedro Derresa\"', 'curso': '\"ENGFIS\"', 'tpc': [8, 12, 20, 18]}, {'id': '\"a64\"', 'nome': '\"Gil Miguel Lima\"', 'curso': '\"ENGBIOM\"', 'tpc': [16, 19, 8, 14]}, {'id': '\"a65\"', 'nome': '\"Leonor Pedro Carqueijeiro\"', 'curso': '\"ENGBIOM\"', 'tpc': [19, 11, 17, 8]}, {'id': '\"a66\"', 'nome': '\"Genrikh Maximovich Vila-Chã\"', 'curso': '\"ENGFIS\"', 'tpc': [12, 15, 13, 9]}, {'id': '\"a67\"', 'nome': '\"Mayra Larissa Rolo\"', 'curso': '\"LCC\"', 'tpc': [15, 14, 17, 12]}, {'id': '\"a68\"', 'nome': '\"Leandro David Dunhoo\"', 'curso': '\"ENGBIOM\"', 'tpc': [15, 14, 11, 15]}, {'id': '\"a69\"', 'nome': '\"Adele Belchior\"', 'curso': '\"ENGBIOM\"', 'tpc': [17, 12, 20, 12]}, {'id': '\"a70\"', 'nome': '\"Frantceska Borreca\"', 'curso': '\"ENGFIS\"', 'tpc': [18, 11, 19, 8]}, {'id': '\"a71\"', 'nome': '\"Derrick Urias\"', 'curso': '\"ENGFIS\"', 'tpc': [11, 10, 8, 14]}, {'id': '\"a72\"', 'nome': '\"Ana Gabriel Quirino\"', 'curso': '\"LCC\"', 'tpc': [10, 17, 8, 19]}, {'id': '\"a73\"', 'nome': '\"Carolina Antoo\"', 'curso': '\"ENGBIOM\"', 'tpc': [16, 19, 20, 10]}, {'id': '\"a74\"', 'nome': '\"Vânia Sofia Porfirio\"', 'curso': '\"ENGBIOM\"', 'tpc': [18, 19, 18, 15]}, {'id': '\"a75\"', 'nome': '\"Dárcio Wosvaldo Tudela\"', 'curso': '\"LEI\"', 'tpc': [8, 18, 9, 18]}, {'id': '\"a76\"', 'nome': '\"Zhara Couxão\"', 'curso': '\"ENGFIS\"', 'tpc': [16, 10, 14, 12]}, {'id': '\"a77\"', 'nome': '\"Tomé Ferrito\"', 'curso': '\"LCC\"', 'tpc': [14, 10, 15, 19]}, {'id': '\"a78\"', 'nome': '\"Iasmin Paloma Chaveiro\"', 'curso': '\"LCC\"', 'tpc': [8, 15, 19, 9]}, {'id': '\"a79\"', 'nome': '\"Sadagi Cruto\"', 'curso': '\"ENGBIOM\"', 'tpc': [13, 18, 14, 18]}, {'id': '\"a80\"', 'nome': '\"Maria Carolina Josué\"', 'curso': '\"ENGFIS\"', 'tpc': [17, 20, 17, 18]}, {'id': '\"a81\"', 'nome': '\"Quaresma Lancastre\"', 'curso': '\"ENGBIOM\"', 'tpc': [17, 9, 16, 19]}, {'id': '\"a82\"', 'nome': '\"Evaldir Gervasio\"', 'curso': '\"ENGFIS\"', 'tpc': [16, 19, 15, 8]}, {'id': '\"a83\"', 'nome': '\"Dolorinda Adolfo\"', 'curso': '\"ENGFIS\"', 'tpc': [11, 20, 16, 8]}, {'id': '\"a84\"', 'nome': '\"Laudário Frasão\"', 'curso': '\"LCC\"', 'tpc': [20, 19, 10, 19]}, {'id': '\"a85\"', 'nome': '\"Rómula Jeronimo\"', 'curso': '\"ENGFIS\"', 'tpc': [10, 13, 12, 11]}, {'id': '\"a86\"', 'nome': '\"Clésio Rodeiro\"', 'curso': '\"LCC\"', 'tpc': [9, 13, 12, 18]}, {'id': '\"a87\"', 'nome': '\"Feliciano José Avis\"', 'curso': '\"ENGFIS\"', 'tpc': [9, 11, 10, 9]}, {'id': '\"a88\"', 'nome': '\"Afonso Adriano Marca\"', 'curso': '\"ENGBIOM\"', 'tpc': [8, 16, 12, 15]}, {'id': '\"a89\"', 'nome': '\"Victória Miguel Rosete\"', 'curso': '\"ENGFIS\"', 'tpc': [8, 13, 13, 18]}, {'id': '\"a90\"', 'nome': '\"Tome Teroso\"', 'curso': '\"ENGFIS\"', 'tpc': [9, 9, 10, 17]}, {'id': '\"a91\"', 'nome': '\"Constança Filipa Melado\"', 'curso': '\"LEI\"', 'tpc': [10, 12, 8, 20]}, {'id': '\"a92\"', 'nome': '\"Madalena Jesus Alfaiate\"', 'curso': '\"LEI\"', 'tpc': [17, 14, 9, 17]}, {'id': '\"a93\"', 'nome': '\"Bivhan Reimbau\"', 'curso': '\"LCC\"', 'tpc': [17, 11, 8, 12]}, {'id': '\"a94\"', 'nome': '\"Viviana Sofia Gaspar\"', 'curso': '\"ENGBIOM\"', 'tpc': [16, 16, 20, 14]}, {'id': '\"a95\"', 'nome': '\"Íris Soraia Chiote\"', 'curso': '\"LEI\"', 'tpc': [11, 11, 17, 16]}, {'id': '\"a96\"', 'nome': '\"Anaïs Sintra\"', 'curso': '\"LCC\"', 'tpc': [19, 19, 12, 9]}, {'id': '\"a97\"', 'nome': '\"Salvador Banaca\"', 'curso': '\"LCC\"', 'tpc': [12, 9, 20, 12]}, {'id': '\"a98\"', 'nome': '\"Guilherme Matias Almeirão\"', 'curso': '\"ENGFIS\"', 'tpc': [14, 9, 12, 11]}, {'id': '\"a99\"', 'nome': '\"Xavier Luís Bulha\"', 'curso': '\"ENGFIS\"', 'tpc': [17, 13, 8, 10]}, {'id': '\"a100\"', 'nome': '\"Tude Searas\"', 'curso': '\"LEI\"', 'tpc': [20, 17, 8, 14]}]\n"
     ]
    }
   ],
   "source": [
    "BDalunos= lerDataset(\"alunos.csv\")\n",
    "print(BDalunos)"
   ]
  },
  {
   "cell_type": "markdown",
   "metadata": {},
   "source": [
    "## Listagem (exercício 2)\n",
    "\n",
    "Especifica uma função que faça a listagem no monitor dos vários registos de informação.\n",
    "Tenta dar a forma duma tabela em que as colunas têm todas a mesma dimensão."
   ]
  },
  {
   "cell_type": "code",
   "execution_count": 6,
   "metadata": {},
   "outputs": [],
   "source": [
    "# Listagem da informação\n",
    "def listarDataset(bd):\n",
    "    print(\"id       |nome                         |curso       |média       \")\n",
    "    print(\"-----------------------------------------------------------------\")\n",
    "    for a in bd:\n",
    "        print(a[\"id\"]+\"|\"+a[\"nome\"]+\"|\"+a[\"curso\"]\n",
    "                 +\"|\"+str(sum(a[\"tpc\"])/len(a[\"tpc\"])))"
   ]
  },
  {
   "cell_type": "code",
   "execution_count": 7,
   "metadata": {
    "collapsed": true,
    "jupyter": {
     "outputs_hidden": true
    }
   },
   "outputs": [
    {
     "name": "stdout",
     "output_type": "stream",
     "text": [
      "id       |nome                         |curso       |média       \n",
      "-----------------------------------------------------------------\n",
      "\"a1\"|\"Aysha Melanie Gilberto\"|\"LEI\"|11.75\n",
      "\"a2\"|\"Igor André Cantanhede\"|\"ENGFIS\"|16.5\n",
      "\"a3\"|\"Laurénio Narciso\"|\"ENGFIS\"|12.75\n",
      "\"a4\"|\"Jasnoor Casegas\"|\"LCC\"|15.5\n",
      "\"a5\"|\"Tawseef Rebouças\"|\"ENGBIOM\"|14.25\n",
      "\"a6\"|\"Eryk Clementino\"|\"LEI\"|13.5\n",
      "\"a7\"|\"Ianna Noivo\"|\"ENGBIOM\"|15.75\n",
      "\"a8\"|\"Ayla Thaissa Reina\"|\"ENGBIOM\"|11.5\n",
      "\"a9\"|\"Cássia Viviane Coitã\"|\"ENGFIS\"|13.0\n",
      "\"a10\"|\"Koby Vindima\"|\"LEI\"|14.0\n",
      "\"a11\"|\"Gustavo Martim Hernandez\"|\"ENGBIOM\"|11.0\n",
      "\"a12\"|\"Siddarta Beiriz\"|\"LEI\"|14.75\n",
      "\"a13\"|\"Daniela Patrícia Montes\"|\"ENGBIOM\"|16.75\n",
      "\"a14\"|\"Kaylla Pessego\"|\"LCC\"|14.0\n",
      "\"a15\"|\"Bianca Cristina Primitivo\"|\"ENGBIOM\"|13.25\n",
      "\"a16\"|\"Magna Galhardo\"|\"ENGFIS\"|15.25\n",
      "\"a17\"|\"Grace Isabel Patriarca\"|\"LCC\"|12.75\n",
      "\"a18\"|\"Saubhagya Buco\"|\"LEI\"|15.25\n",
      "\"a19\"|\"Ivo Vicente Boisa\"|\"ENGBIOM\"|13.75\n",
      "\"a20\"|\"Vivaan Castilhos\"|\"ENGFIS\"|13.0\n",
      "\"a21\"|\"Layana Camejo\"|\"ENGFIS\"|14.75\n",
      "\"a22\"|\"Mahdi Menoita\"|\"ENGFIS\"|12.75\n",
      "\"a23\"|\"Yifan Cortinado\"|\"LEI\"|15.25\n",
      "\"a24\"|\"Éder Sodré\"|\"ENGFIS\"|14.0\n",
      "\"a25\"|\"Dhriti Magano\"|\"ENGFIS\"|14.25\n",
      "\"a26\"|\"Steve Devesa\"|\"ENGBIOM\"|11.75\n",
      "\"a27\"|\"Lisandro Mariano Picassinos\"|\"ENGFIS\"|12.25\n",
      "\"a28\"|\"Itiel Quinoy\"|\"LEI\"|13.25\n",
      "\"a29\"|\"Pranika Reimoo\"|\"LEI\"|14.0\n",
      "\"a30\"|\"Manaia Viseu\"|\"ENGFIS\"|12.75\n",
      "\"a31\"|\"Eva Manuel Caio\"|\"ENGFIS\"|16.0\n",
      "\"a32\"|\"Ariane Sofia Foja\"|\"LEI\"|17.5\n",
      "\"a33\"|\"Jaime António Pauseiro\"|\"LCC\"|12.5\n",
      "\"a34\"|\"Tanisha Marzagoo\"|\"ENGBIOM\"|15.0\n",
      "\"a35\"|\"Siyon Anca\"|\"LEI\"|13.75\n",
      "\"a36\"|\"Diana Beatriz Boavista\"|\"LCC\"|16.5\n",
      "\"a37\"|\"Elisiário Saberio\"|\"ENGFIS\"|16.25\n",
      "\"a38\"|\"Maira Brites\"|\"ENGFIS\"|15.25\n",
      "\"a39\"|\"Victória Gabriela Incenso\"|\"LEI\"|13.0\n",
      "\"a40\"|\"Najua Serôdio\"|\"LCC\"|15.0\n",
      "\"a41\"|\"Lachezar Rosas\"|\"ENGBIOM\"|16.75\n",
      "\"a42\"|\"Kattleya Trigueiro\"|\"ENGFIS\"|16.0\n",
      "\"a43\"|\"Tatiana Guiomar Maricoto\"|\"LCC\"|13.25\n",
      "\"a44\"|\"Mélanie Daniela Bugalhão\"|\"LCC\"|15.25\n",
      "\"a45\"|\"Imayame Hespanha\"|\"ENGFIS\"|16.75\n",
      "\"a46\"|\"Yuri Gabriel Baganha\"|\"LCC\"|15.25\n",
      "\"a47\"|\"Moisés João Cornelio\"|\"LEI\"|18.0\n",
      "\"a48\"|\"Nazir Assif Trinta\"|\"LEI\"|12.0\n",
      "\"a49\"|\"Karamjot Arezes\"|\"LEI\"|12.75\n",
      "\"a50\"|\"Rishit Justa\"|\"ENGBIOM\"|9.75\n",
      "\"a51\"|\"Iara de Jesus Gonçalo\"|\"ENGFIS\"|12.0\n",
      "\"a52\"|\"Stepfan Owusu Lercas\"|\"LEI\"|14.25\n",
      "\"a53\"|\"Abner Umbelina\"|\"ENGBIOM\"|14.75\n",
      "\"a54\"|\"Dânia Lucy Montelobo\"|\"LEI\"|15.75\n",
      "\"a55\"|\"Myla Lopez\"|\"ENGFIS\"|14.5\n",
      "\"a56\"|\"Hakeem Brazão\"|\"LEI\"|17.25\n",
      "\"a57\"|\"Quinn Aveiro\"|\"ENGBIOM\"|13.75\n",
      "\"a58\"|\"Etienne Constentino\"|\"ENGBIOM\"|11.25\n",
      "\"a59\"|\"Emanuel Marcos Delfina\"|\"LEI\"|11.25\n",
      "\"a60\"|\"Mariana Catarina Ramalheira\"|\"ENGBIOM\"|16.5\n",
      "\"a61\"|\"Bradley Tabau\"|\"LCC\"|15.75\n",
      "\"a62\"|\"Ahmadou Bamba Calcinha\"|\"LCC\"|14.25\n",
      "\"a63\"|\"Francisco Pedro Derresa\"|\"ENGFIS\"|14.5\n",
      "\"a64\"|\"Gil Miguel Lima\"|\"ENGBIOM\"|14.25\n",
      "\"a65\"|\"Leonor Pedro Carqueijeiro\"|\"ENGBIOM\"|13.75\n",
      "\"a66\"|\"Genrikh Maximovich Vila-Chã\"|\"ENGFIS\"|12.25\n",
      "\"a67\"|\"Mayra Larissa Rolo\"|\"LCC\"|14.5\n",
      "\"a68\"|\"Leandro David Dunhoo\"|\"ENGBIOM\"|13.75\n",
      "\"a69\"|\"Adele Belchior\"|\"ENGBIOM\"|15.25\n",
      "\"a70\"|\"Frantceska Borreca\"|\"ENGFIS\"|14.0\n",
      "\"a71\"|\"Derrick Urias\"|\"ENGFIS\"|10.75\n",
      "\"a72\"|\"Ana Gabriel Quirino\"|\"LCC\"|13.5\n",
      "\"a73\"|\"Carolina Antoo\"|\"ENGBIOM\"|16.25\n",
      "\"a74\"|\"Vânia Sofia Porfirio\"|\"ENGBIOM\"|17.5\n",
      "\"a75\"|\"Dárcio Wosvaldo Tudela\"|\"LEI\"|13.25\n",
      "\"a76\"|\"Zhara Couxão\"|\"ENGFIS\"|13.0\n",
      "\"a77\"|\"Tomé Ferrito\"|\"LCC\"|14.5\n",
      "\"a78\"|\"Iasmin Paloma Chaveiro\"|\"LCC\"|12.75\n",
      "\"a79\"|\"Sadagi Cruto\"|\"ENGBIOM\"|15.75\n",
      "\"a80\"|\"Maria Carolina Josué\"|\"ENGFIS\"|18.0\n",
      "\"a81\"|\"Quaresma Lancastre\"|\"ENGBIOM\"|15.25\n",
      "\"a82\"|\"Evaldir Gervasio\"|\"ENGFIS\"|14.5\n",
      "\"a83\"|\"Dolorinda Adolfo\"|\"ENGFIS\"|13.75\n",
      "\"a84\"|\"Laudário Frasão\"|\"LCC\"|17.0\n",
      "\"a85\"|\"Rómula Jeronimo\"|\"ENGFIS\"|11.5\n",
      "\"a86\"|\"Clésio Rodeiro\"|\"LCC\"|13.0\n",
      "\"a87\"|\"Feliciano José Avis\"|\"ENGFIS\"|9.75\n",
      "\"a88\"|\"Afonso Adriano Marca\"|\"ENGBIOM\"|12.75\n",
      "\"a89\"|\"Victória Miguel Rosete\"|\"ENGFIS\"|13.0\n",
      "\"a90\"|\"Tome Teroso\"|\"ENGFIS\"|11.25\n",
      "\"a91\"|\"Constança Filipa Melado\"|\"LEI\"|12.5\n",
      "\"a92\"|\"Madalena Jesus Alfaiate\"|\"LEI\"|14.25\n",
      "\"a93\"|\"Bivhan Reimbau\"|\"LCC\"|12.0\n",
      "\"a94\"|\"Viviana Sofia Gaspar\"|\"ENGBIOM\"|16.5\n",
      "\"a95\"|\"Íris Soraia Chiote\"|\"LEI\"|13.75\n",
      "\"a96\"|\"Anaïs Sintra\"|\"LCC\"|14.75\n",
      "\"a97\"|\"Salvador Banaca\"|\"LCC\"|13.25\n",
      "\"a98\"|\"Guilherme Matias Almeirão\"|\"ENGFIS\"|11.5\n",
      "\"a99\"|\"Xavier Luís Bulha\"|\"ENGFIS\"|12.0\n",
      "\"a100\"|\"Tude Searas\"|\"LEI\"|14.75\n"
     ]
    }
   ],
   "source": [
    "listarDataset(BDalunos)"
   ]
  },
  {
   "cell_type": "markdown",
   "metadata": {},
   "source": [
    "## Consulta de um registo (exercício 3)\n",
    "\n",
    "Especifica uma função que, dado o id de um aluno, coloca a sua informação no monitor. Para além disso, indica também a média dos TPC realizados."
   ]
  },
  {
   "cell_type": "code",
   "execution_count": 8,
   "metadata": {},
   "outputs": [],
   "source": [
    "# Consulta de um registo\n",
    "def consultarDataset(bd, id):\n",
    "    for a in bd:\n",
    "        if (str(id)==a[\"id\"].replace('\"','')):\n",
    "            return(a[\"id\"]+\"|\"+a[\"nome\"]+\"|\"+a[\"curso\"]\n",
    "                 +\"|\"+str(sum(a[\"tpc\"])/len(a[\"tpc\"])))"
   ]
  },
  {
   "cell_type": "code",
   "execution_count": 10,
   "metadata": {},
   "outputs": [
    {
     "name": "stdin",
     "output_type": "stream",
     "text": [
      "Introduza o Id do aluno: a3\n"
     ]
    },
    {
     "name": "stdout",
     "output_type": "stream",
     "text": [
      "\"a3\"|\"Laurénio Narciso\"|\"ENGFIS\"|12.75\n"
     ]
    }
   ],
   "source": [
    "idaluno=str(input(\"Introduza o Id do aluno:\"))\n",
    "print(consultarDataset(BDalunos,idaluno))"
   ]
  },
  {
   "cell_type": "markdown",
   "metadata": {},
   "source": [
    "## Top 10 (exercício 4)\n",
    "\n",
    "Especifica um função que dá como resultado uma lista com os alunos com as 10 médias mais altas: id, nome, curso, média."
   ]
  },
  {
   "cell_type": "code",
   "execution_count": 21,
   "metadata": {},
   "outputs": [],
   "source": [
    "def top10(bd):\n",
    "    bdmedias={}\n",
    "    for a in bd:\n",
    "        media=int(sum(a[\"tpc\"])/len(a[\"tpc\"]))\n",
    "        if(media in bdmedias.keys()):\n",
    "            bdmedias[media]+=\"|| Id: \"+a[\"id\"]+\"|Nome: \"+a[\"nome\"]+\"|Curso: \"+a[\"curso\"]       \n",
    "        else:\n",
    "            bdmedias[media]=\"Id: \"+a[\"id\"]+\"|Nome: \"+a[\"nome\"]+\"|Curso: \"+a[\"curso\"] \n",
    "    for media in (sorted(bdmedias.items(), reverse=True)):\n",
    "        print(\"Média:\",media[0],\"||\",media[1])"
   ]
  },
  {
   "cell_type": "code",
   "execution_count": 22,
   "metadata": {
    "collapsed": true,
    "jupyter": {
     "outputs_hidden": true
    }
   },
   "outputs": [
    {
     "name": "stdout",
     "output_type": "stream",
     "text": [
      "Média: 18 || Id: \"a47\"|Nome: \"Moisés João Cornelio\"|Curso: \"LEI\"|| Id: \"a80\"|Nome: \"Maria Carolina Josué\"|Curso: \"ENGFIS\"\n",
      "Média: 17 || Id: \"a32\"|Nome: \"Ariane Sofia Foja\"|Curso: \"LEI\"|| Id: \"a56\"|Nome: \"Hakeem Brazão\"|Curso: \"LEI\"|| Id: \"a74\"|Nome: \"Vânia Sofia Porfirio\"|Curso: \"ENGBIOM\"|| Id: \"a84\"|Nome: \"Laudário Frasão\"|Curso: \"LCC\"\n",
      "Média: 16 || Id: \"a2\"|Nome: \"Igor André Cantanhede\"|Curso: \"ENGFIS\"|| Id: \"a13\"|Nome: \"Daniela Patrícia Montes\"|Curso: \"ENGBIOM\"|| Id: \"a31\"|Nome: \"Eva Manuel Caio\"|Curso: \"ENGFIS\"|| Id: \"a36\"|Nome: \"Diana Beatriz Boavista\"|Curso: \"LCC\"|| Id: \"a37\"|Nome: \"Elisiário Saberio\"|Curso: \"ENGFIS\"|| Id: \"a41\"|Nome: \"Lachezar Rosas\"|Curso: \"ENGBIOM\"|| Id: \"a42\"|Nome: \"Kattleya Trigueiro\"|Curso: \"ENGFIS\"|| Id: \"a45\"|Nome: \"Imayame Hespanha\"|Curso: \"ENGFIS\"|| Id: \"a60\"|Nome: \"Mariana Catarina Ramalheira\"|Curso: \"ENGBIOM\"|| Id: \"a73\"|Nome: \"Carolina Antoo\"|Curso: \"ENGBIOM\"|| Id: \"a94\"|Nome: \"Viviana Sofia Gaspar\"|Curso: \"ENGBIOM\"\n",
      "Média: 15 || Id: \"a4\"|Nome: \"Jasnoor Casegas\"|Curso: \"LCC\"|| Id: \"a7\"|Nome: \"Ianna Noivo\"|Curso: \"ENGBIOM\"|| Id: \"a16\"|Nome: \"Magna Galhardo\"|Curso: \"ENGFIS\"|| Id: \"a18\"|Nome: \"Saubhagya Buco\"|Curso: \"LEI\"|| Id: \"a23\"|Nome: \"Yifan Cortinado\"|Curso: \"LEI\"|| Id: \"a34\"|Nome: \"Tanisha Marzagoo\"|Curso: \"ENGBIOM\"|| Id: \"a38\"|Nome: \"Maira Brites\"|Curso: \"ENGFIS\"|| Id: \"a40\"|Nome: \"Najua Serôdio\"|Curso: \"LCC\"|| Id: \"a44\"|Nome: \"Mélanie Daniela Bugalhão\"|Curso: \"LCC\"|| Id: \"a46\"|Nome: \"Yuri Gabriel Baganha\"|Curso: \"LCC\"|| Id: \"a54\"|Nome: \"Dânia Lucy Montelobo\"|Curso: \"LEI\"|| Id: \"a61\"|Nome: \"Bradley Tabau\"|Curso: \"LCC\"|| Id: \"a69\"|Nome: \"Adele Belchior\"|Curso: \"ENGBIOM\"|| Id: \"a79\"|Nome: \"Sadagi Cruto\"|Curso: \"ENGBIOM\"|| Id: \"a81\"|Nome: \"Quaresma Lancastre\"|Curso: \"ENGBIOM\"\n",
      "Média: 14 || Id: \"a5\"|Nome: \"Tawseef Rebouças\"|Curso: \"ENGBIOM\"|| Id: \"a10\"|Nome: \"Koby Vindima\"|Curso: \"LEI\"|| Id: \"a12\"|Nome: \"Siddarta Beiriz\"|Curso: \"LEI\"|| Id: \"a14\"|Nome: \"Kaylla Pessego\"|Curso: \"LCC\"|| Id: \"a21\"|Nome: \"Layana Camejo\"|Curso: \"ENGFIS\"|| Id: \"a24\"|Nome: \"Éder Sodré\"|Curso: \"ENGFIS\"|| Id: \"a25\"|Nome: \"Dhriti Magano\"|Curso: \"ENGFIS\"|| Id: \"a29\"|Nome: \"Pranika Reimoo\"|Curso: \"LEI\"|| Id: \"a52\"|Nome: \"Stepfan Owusu Lercas\"|Curso: \"LEI\"|| Id: \"a53\"|Nome: \"Abner Umbelina\"|Curso: \"ENGBIOM\"|| Id: \"a55\"|Nome: \"Myla Lopez\"|Curso: \"ENGFIS\"|| Id: \"a62\"|Nome: \"Ahmadou Bamba Calcinha\"|Curso: \"LCC\"|| Id: \"a63\"|Nome: \"Francisco Pedro Derresa\"|Curso: \"ENGFIS\"|| Id: \"a64\"|Nome: \"Gil Miguel Lima\"|Curso: \"ENGBIOM\"|| Id: \"a67\"|Nome: \"Mayra Larissa Rolo\"|Curso: \"LCC\"|| Id: \"a70\"|Nome: \"Frantceska Borreca\"|Curso: \"ENGFIS\"|| Id: \"a77\"|Nome: \"Tomé Ferrito\"|Curso: \"LCC\"|| Id: \"a82\"|Nome: \"Evaldir Gervasio\"|Curso: \"ENGFIS\"|| Id: \"a92\"|Nome: \"Madalena Jesus Alfaiate\"|Curso: \"LEI\"|| Id: \"a96\"|Nome: \"Anaïs Sintra\"|Curso: \"LCC\"|| Id: \"a100\"|Nome: \"Tude Searas\"|Curso: \"LEI\"\n",
      "Média: 13 || Id: \"a6\"|Nome: \"Eryk Clementino\"|Curso: \"LEI\"|| Id: \"a9\"|Nome: \"Cássia Viviane Coitã\"|Curso: \"ENGFIS\"|| Id: \"a15\"|Nome: \"Bianca Cristina Primitivo\"|Curso: \"ENGBIOM\"|| Id: \"a19\"|Nome: \"Ivo Vicente Boisa\"|Curso: \"ENGBIOM\"|| Id: \"a20\"|Nome: \"Vivaan Castilhos\"|Curso: \"ENGFIS\"|| Id: \"a28\"|Nome: \"Itiel Quinoy\"|Curso: \"LEI\"|| Id: \"a35\"|Nome: \"Siyon Anca\"|Curso: \"LEI\"|| Id: \"a39\"|Nome: \"Victória Gabriela Incenso\"|Curso: \"LEI\"|| Id: \"a43\"|Nome: \"Tatiana Guiomar Maricoto\"|Curso: \"LCC\"|| Id: \"a57\"|Nome: \"Quinn Aveiro\"|Curso: \"ENGBIOM\"|| Id: \"a65\"|Nome: \"Leonor Pedro Carqueijeiro\"|Curso: \"ENGBIOM\"|| Id: \"a68\"|Nome: \"Leandro David Dunhoo\"|Curso: \"ENGBIOM\"|| Id: \"a72\"|Nome: \"Ana Gabriel Quirino\"|Curso: \"LCC\"|| Id: \"a75\"|Nome: \"Dárcio Wosvaldo Tudela\"|Curso: \"LEI\"|| Id: \"a76\"|Nome: \"Zhara Couxão\"|Curso: \"ENGFIS\"|| Id: \"a83\"|Nome: \"Dolorinda Adolfo\"|Curso: \"ENGFIS\"|| Id: \"a86\"|Nome: \"Clésio Rodeiro\"|Curso: \"LCC\"|| Id: \"a89\"|Nome: \"Victória Miguel Rosete\"|Curso: \"ENGFIS\"|| Id: \"a95\"|Nome: \"Íris Soraia Chiote\"|Curso: \"LEI\"|| Id: \"a97\"|Nome: \"Salvador Banaca\"|Curso: \"LCC\"\n",
      "Média: 12 || Id: \"a3\"|Nome: \"Laurénio Narciso\"|Curso: \"ENGFIS\"|| Id: \"a17\"|Nome: \"Grace Isabel Patriarca\"|Curso: \"LCC\"|| Id: \"a22\"|Nome: \"Mahdi Menoita\"|Curso: \"ENGFIS\"|| Id: \"a27\"|Nome: \"Lisandro Mariano Picassinos\"|Curso: \"ENGFIS\"|| Id: \"a30\"|Nome: \"Manaia Viseu\"|Curso: \"ENGFIS\"|| Id: \"a33\"|Nome: \"Jaime António Pauseiro\"|Curso: \"LCC\"|| Id: \"a48\"|Nome: \"Nazir Assif Trinta\"|Curso: \"LEI\"|| Id: \"a49\"|Nome: \"Karamjot Arezes\"|Curso: \"LEI\"|| Id: \"a51\"|Nome: \"Iara de Jesus Gonçalo\"|Curso: \"ENGFIS\"|| Id: \"a66\"|Nome: \"Genrikh Maximovich Vila-Chã\"|Curso: \"ENGFIS\"|| Id: \"a78\"|Nome: \"Iasmin Paloma Chaveiro\"|Curso: \"LCC\"|| Id: \"a88\"|Nome: \"Afonso Adriano Marca\"|Curso: \"ENGBIOM\"|| Id: \"a91\"|Nome: \"Constança Filipa Melado\"|Curso: \"LEI\"|| Id: \"a93\"|Nome: \"Bivhan Reimbau\"|Curso: \"LCC\"|| Id: \"a99\"|Nome: \"Xavier Luís Bulha\"|Curso: \"ENGFIS\"\n",
      "Média: 11 || Id: \"a1\"|Nome: \"Aysha Melanie Gilberto\"|Curso: \"LEI\"|| Id: \"a8\"|Nome: \"Ayla Thaissa Reina\"|Curso: \"ENGBIOM\"|| Id: \"a11\"|Nome: \"Gustavo Martim Hernandez\"|Curso: \"ENGBIOM\"|| Id: \"a26\"|Nome: \"Steve Devesa\"|Curso: \"ENGBIOM\"|| Id: \"a58\"|Nome: \"Etienne Constentino\"|Curso: \"ENGBIOM\"|| Id: \"a59\"|Nome: \"Emanuel Marcos Delfina\"|Curso: \"LEI\"|| Id: \"a85\"|Nome: \"Rómula Jeronimo\"|Curso: \"ENGFIS\"|| Id: \"a90\"|Nome: \"Tome Teroso\"|Curso: \"ENGFIS\"|| Id: \"a98\"|Nome: \"Guilherme Matias Almeirão\"|Curso: \"ENGFIS\"\n",
      "Média: 10 || Id: \"a71\"|Nome: \"Derrick Urias\"|Curso: \"ENGFIS\"\n",
      "Média: 9 || Id: \"a50\"|Nome: \"Rishit Justa\"|Curso: \"ENGBIOM\"|| Id: \"a87\"|Nome: \"Feliciano José Avis\"|Curso: \"ENGFIS\"\n"
     ]
    }
   ],
   "source": [
    "top10(BDalunos)"
   ]
  },
  {
   "cell_type": "markdown",
   "metadata": {},
   "source": [
    "## Distribuição por curso (exercício 5)\n",
    "\n",
    "Especifica uma função que dá como resultado uma lista de pares indicando quantos alunos há em cada curso."
   ]
  },
  {
   "cell_type": "code",
   "execution_count": 91,
   "metadata": {},
   "outputs": [],
   "source": [
    "def distribPorCurso(bd): #Os dicionários premitem tratar os dados em várias situações\n",
    "    distribuicao={}\n",
    "    for a in bd:\n",
    "        if(a['curso'] in distribuicao.keys()):\n",
    "            distribuicao[a['curso']]+=1\n",
    "        else:\n",
    "            distribuicao[a['curso']]=1\n",
    "    return distribuicao\n",
    "\n",
    "    "
   ]
  },
  {
   "cell_type": "code",
   "execution_count": 92,
   "metadata": {},
   "outputs": [
    {
     "name": "stdout",
     "output_type": "stream",
     "text": [
      "{'\"LEI\"': 23, '\"ENGFIS\"': 32, '\"LCC\"': 20, '\"ENGBIOM\"': 25}\n"
     ]
    }
   ],
   "source": [
    "mydistrib=distribPorCurso(BDalunos)\n",
    "print(mydistrib)"
   ]
  },
  {
   "cell_type": "markdown",
   "metadata": {},
   "source": [
    "## Distribuição por médias (exercício 6)\n",
    "\n",
    "Especifica uma função que dá como resultado uma lista de pares, média e número de alunos com essa média (considera o valor inteiro da média)."
   ]
  },
  {
   "cell_type": "code",
   "execution_count": 87,
   "metadata": {},
   "outputs": [],
   "source": [
    "import collections\n",
    "def distribPorMedia(bd):\n",
    "    media={}\n",
    "    for a in bd:\n",
    "        medias=int(sum(a[\"tpc\"])/len(a[\"tpc\"]))\n",
    "        if(medias in media.keys()):\n",
    "            media[medias]+=1\n",
    "        else:\n",
    "            media[medias]=1\n",
    "    result = collections.OrderedDict(sorted(media.items()))\n",
    "    media=dict(result)\n",
    "    return media\n",
    "        "
   ]
  },
  {
   "cell_type": "code",
   "execution_count": 88,
   "metadata": {},
   "outputs": [
    {
     "name": "stdout",
     "output_type": "stream",
     "text": [
      "{9: 2, 10: 1, 11: 9, 12: 15, 13: 20, 14: 21, 15: 15, 16: 11, 17: 4, 18: 2}\n"
     ]
    }
   ],
   "source": [
    "mydistribmed=distribPorMedia(BDalunos)\n",
    "print(mydistribmed)"
   ]
  },
  {
   "cell_type": "markdown",
   "metadata": {},
   "source": [
    "# Gráficos\n",
    "\n",
    "## Gráfico da distribuição por curso (exercício 7)\n",
    "\n",
    "Especifica uma função que faz o plot dum gráfico com a distribuição de alunos por curso."
   ]
  },
  {
   "cell_type": "code",
   "execution_count": 97,
   "metadata": {},
   "outputs": [],
   "source": [
    "def plotDistribPorCurso(cursos):\n",
    "    import matplotlib.pyplot as plt\n",
    " \n",
    "    # x-coordinates of left sides of bars\n",
    "    left = [1, 2, 3, 4]\n",
    " \n",
    "    # heights of bars\n",
    "    height = [mydistrib['\"LEI\"'],mydistrib['\"ENGFIS\"'] ,mydistrib['\"LCC\"'],mydistrib['\"ENGBIOM\"']]\n",
    " \n",
    "    # labels for bars\n",
    "    tick_label = ['LEI', 'ENGFIS', 'LCC', 'ENGBIOM']\n",
    " \n",
    "    # plotting a bar chart\n",
    "    plt.bar(left, height, tick_label = tick_label, #Tá a dar o nome as barras\n",
    "            width = 0.8, color = ['pink', 'purple']) #largura da barra e cor delas\n",
    " \n",
    "    # naming the x-axis\n",
    "    plt.xlabel('Cursos')\n",
    "    # naming the y-axis\n",
    "    plt.ylabel('Alunos')\n",
    "    # plot title\n",
    "    plt.title('Distribuição de alunos por Curso')\n",
    " \n",
    "    # function to show the plot\n",
    "    plt.show()\n",
    "    "
   ]
  },
  {
   "cell_type": "code",
   "execution_count": 98,
   "metadata": {},
   "outputs": [
    {
     "data": {
      "image/png": "[encoded data removed]",
      "text/plain": [
       "<Figure size 432x288 with 1 Axes>"
      ]
     },
     "metadata": {
      "needs_background": "light"
     },
     "output_type": "display_data"
    }
   ],
   "source": [
    "plotDistribPorCurso(mydistrib)"
   ]
  },
  {
   "cell_type": "markdown",
   "metadata": {},
   "source": [
    "## Gráfico da distribuição por média (exercício 8)\n",
    "\n",
    "Especifica uma função que faz o plot dum gráfico com a distribuição de alunos por média."
   ]
  },
  {
   "cell_type": "code",
   "execution_count": 109,
   "metadata": {},
   "outputs": [],
   "source": [
    "def plotDistribPorMedia(medias):\n",
    "    import matplotlib.pyplot as plt\n",
    " \n",
    "    # x-coordinates of left sides of bars\n",
    "    left = [1, 2, 3, 4,5,6,7,8,9,10]\n",
    " \n",
    "    # heights of bars\n",
    "    height = [mydistribmed[9],mydistribmed[10] ,mydistribmed[11],mydistribmed[12],\n",
    "              mydistribmed[13],mydistribmed[14],mydistribmed[15],mydistribmed[16],mydistribmed[17],mydistribmed[18]]\n",
    " \n",
    "    # labels for bars\n",
    "    tick_label = [9,10,11,12,13,14,15,16,17,18]\n",
    " \n",
    "    # plotting a bar chart\n",
    "    plt.bar(left, height, tick_label = tick_label, #Tá a dar o nome as barras\n",
    "            width = 0.8, color = ['orange', 'gold']) #largura da barra e cor delas\n",
    " \n",
    "    # naming the x-axis\n",
    "    plt.xlabel('Médias')\n",
    "    # naming the y-axis\n",
    "    plt.ylabel('Quantidade de Alunos')\n",
    "    # plot title\n",
    "    plt.title('Distribuição de alunos por Média')\n",
    " \n",
    "    # function to show the plot\n",
    "    plt.show()\n",
    "    "
   ]
  },
  {
   "cell_type": "code",
   "execution_count": 110,
   "metadata": {},
   "outputs": [
    {
     "data": {
      "image/png": "[encoded data removed]",
      "text/plain": [
       "<Figure size 432x288 with 1 Axes>"
      ]
     },
     "metadata": {
      "needs_background": "light"
     },
     "output_type": "display_data"
    }
   ],
   "source": [
    "plotDistribPorMedia(mydistribmed)"
   ]
  },
  {
   "cell_type": "code",
   "execution_count": null,
   "metadata": {},
   "outputs": [],
   "source": []
  }
 ],
 "metadata": {
  "interpreter": {
   "hash": "aee8b7b246df8f9039afb4144a1f6fd8d2ca17a180786b69acc140d282b71a49"
  },
  "kernelspec": {
   "display_name": "Python 3",
   "language": "python",
   "name": "python3"
  },
  "language_info": {
   "codemirror_mode": {
    "name": "ipython",
    "version": 3
   },
   "file_extension": ".py",
   "mimetype": "text/x-python",
   "name": "python",
   "nbconvert_exporter": "python",
   "pygments_lexer": "ipython3",
   "version": "3.8.3"
  }
 },
 "nbformat": 4,
 "nbformat_minor": 4
}
