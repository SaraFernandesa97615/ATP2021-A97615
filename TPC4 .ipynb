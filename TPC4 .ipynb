{
 "cells": [
  {
   "cell_type": "markdown",
   "metadata": {},
   "source": [
    "# __TPC4__: Manipulação de frações "
   ]
  },
  {
   "cell_type": "markdown",
   "metadata": {},
   "source": [
    "## TPC4: Calculadora para frações\n",
    "#### Aluno: Sara Afonso Fernandes, a97615\n",
    "#### Data de início: 2021-11-10\n",
    "#### Data de término: 2021-11-11\n",
    "#### Supervisor: José Carlos Ramalho ; https://www.di.uminho.pt/~jcr/\n",
    "#### Resumo: Comecei por criar um  *\"Menu\"* , onde coloquei que operações a calculadora é capaz de executar e peço ao utilizador que opção pretende. \n",
    "#### De seguida criei várias funções, umas para criar frações e outras para as simplificar o máximo que conseguimos, utilizando o mdc (tal como foi feito na aula). Quando já temos as frações criamos as funções para executar a conta/operação e de seguida para mostrar ao utilizador o resultado.\n",
    "#### Assim obtemos uma calculadora capaz de efetuar 4 operações diferentes (soma,subtração,multiplicação e divisão) e com a  opção de sair."
   ]
  },
  {
   "cell_type": "code",
   "execution_count": null,
   "metadata": {},
   "outputs": [],
   "source": [
    "def menu():\n",
    "    print('''\n",
    "(1) Somar frações\n",
    "(2) Subtrair frações\n",
    "(3) Multiplicar frações \n",
    "(4) Dividir frações\n",
    "...\n",
    "(0) Sair\n",
    "    ''')\n",
    "menu()\n",
    "def escolha():\n",
    "    opcao=int(input(\"Qual o número da operação que deseja fazer?:\"))\n",
    "    if opcao==1:\n",
    "        soma()\n",
    "    elif opcao==2:\n",
    "        subtracao()\n",
    "    elif opcao==3:\n",
    "        multiplicar()\n",
    "    elif opcao==4:\n",
    "        dividir()\n",
    "    elif opcao==0:\n",
    "        return -1\n",
    "        print(\"Até à próxima!\")\n",
    "    else:\n",
    "        print(\"A opção que introduziu é inválida\")\n",
    "    escolha()\n",
    "escolha() "
   ]
  },
  {
   "cell_type": "code",
   "execution_count": 19,
   "metadata": {},
   "outputs": [],
   "source": [
    "def criarFracao(numerador,denominador): \n",
    "    return(numerador,denominador)\n",
    "def verFracao(f):\n",
    "    n,d=f \n",
    "    print(n,\"/\",d)        "
   ]
  },
  {
   "cell_type": "code",
   "execution_count": null,
   "metadata": {},
   "outputs": [],
   "source": [
    "def somarFrac(f1,f2):\n",
    "    n1,d1=f1\n",
    "    n2,d2=f2\n",
    "    return (simplificarFracao(((n1*d2)+(n2*d1)),(d1*d2)))\n",
    "def soma():\n",
    "    n1=int(input(\"Qual o númerador da primeira fração:\"))\n",
    "    d1=int(input(\"Qual o denominador da primeira fração:\"))\n",
    "    n2=int(input(\"Qual o númerador da segunda fração:\"))\n",
    "    d2=int(input(\"Qual o denominador da segunda fração:\"))\n",
    "    if d1==0 or d2==0:\n",
    "        print(\"NAÕ PODE DIVIDIR UM NÚMERO POR ZERO\")\n",
    "        break\n",
    "    f1 =criarFracao(n1,d1) \n",
    "    f2=criarFracao(n2,d2)\n",
    "    verFracao(somarFrac(f1,f2))\n",
    "soma()"
   ]
  },
  {
   "cell_type": "code",
   "execution_count": null,
   "metadata": {},
   "outputs": [],
   "source": [
    "def subtrairFrac(f1,f2):\n",
    "    n1,d1=f1\n",
    "    n2,d2=f2\n",
    "    return (simplificarFracao(((n1*d2)-(n2*d1)),(d1*d2)))\n",
    "def subtracao():\n",
    "    n1=int(input(\"Qual o númerador da primeira fração:\"))\n",
    "    d1=int(input(\"Qual o denominador da primeira fração:\"))\n",
    "    n2=int(input(\"Qual o númerador da segunda fração:\"))\n",
    "    d2=int(input(\"Qual o denominador da segunda fração:\"))\n",
    "    f1 =criarFracao(n1,d1) \n",
    "    f2=criarFracao(n2,d2)\n",
    "    verFracao(subtrairFrac(f1,f2))\n",
    "subtracao()"
   ]
  },
  {
   "cell_type": "code",
   "execution_count": 20,
   "metadata": {},
   "outputs": [],
   "source": [
    "def mdc(a,b):\n",
    "    if(a<b):\n",
    "        return (mdc(b,a))\n",
    "    elif(a%b==0):\n",
    "        return b\n",
    "    else: \n",
    "        return (mdc(b,a%b))\n",
    "\n",
    "\n",
    "def simplificarFracao(n,d):\n",
    "    m=mdc(n,d)\n",
    "    return(int(n/m),int(d/m)) \n"
   ]
  },
  {
   "cell_type": "code",
   "execution_count": null,
   "metadata": {},
   "outputs": [],
   "source": [
    "def multFrac(f1,f2):\n",
    "    n1,d1=f1\n",
    "    n2,d2=f2\n",
    "    return (simplificarFracao(n1*n2,d1*d2))\n",
    "def multiplicar():\n",
    "    n1=int(input(\"Qual o númerador da primeira fração:\"))\n",
    "    d1=int(input(\"Qual o denominador da primeira fração:\"))\n",
    "    n2=int(input(\"Qual o númerador da segunda fração:\"))\n",
    "    d2=int(input(\"Qual o denominador da segunda fração:\"))\n",
    "    f1 =criarFracao(n1,d1) \n",
    "    f2=criarFracao(n2,d2)\n",
    "    verFracao(multFrac(f1,f2))\n",
    "multiplicar()"
   ]
  },
  {
   "cell_type": "code",
   "execution_count": null,
   "metadata": {},
   "outputs": [],
   "source": [
    "def divFrac(f1,f2):\n",
    "    n1,d1=f1\n",
    "    n2,d2=f2\n",
    "    return (simplificarFracao(n1*d2,d1*n2))\n",
    "def dividir():\n",
    "    n1=int(input(\"Qual o númerador da primeira fração:\"))\n",
    "    d1=int(input(\"Qual o denominador da primeira fração:\"))\n",
    "    n2=int(input(\"Qual o númerador da segunda fração:\"))\n",
    "    d2=int(input(\"Qual o denominador da segunda fração:\"))\n",
    "    f1 =criarFracao(n1,d1) \n",
    "    f2=criarFracao(n2,d2)\n",
    "    verFracao(divFrac(f1,f2))\n",
    "dividir() "
   ]
  }
 ],
 "metadata": {
  "kernelspec": {
   "display_name": "Python 3",
   "language": "python",
   "name": "python3"
  },
  "language_info": {
   "codemirror_mode": {
    "name": "ipython",
    "version": 3
   },
   "file_extension": ".py",
   "mimetype": "text/x-python",
   "name": "python",
   "nbconvert_exporter": "python",
   "pygments_lexer": "ipython3",
   "version": "3.8.3"
  }
 },
 "nbformat": 4,
 "nbformat_minor": 4
}
