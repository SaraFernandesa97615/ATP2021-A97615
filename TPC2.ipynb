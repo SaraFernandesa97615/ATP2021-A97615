{
 "cells": [
  {
   "cell_type": "markdown",
   "metadata": {},
   "source": [
    "# Título: Jogo \"Adivinha o número\"\n",
    "#### Data inicial: 2021-10-20\n",
    "#### Data final: 2021-10-21\n",
    "#### Supervisor: José Carlos Leite Ramalho\n",
    "#### Autor: Sara Fernandes, a97615\n",
    "#### Resumo: o objetivo deste jogo é adivinhar o número em que o jogador está a pensar, no menor tempo possível. Para isso usei a pesquisa binária. Comecei por definir um máximo e um mínimo, uma variável(a) que nos dá o meio do intervalo e um contador. Temos no máximo 7 tentativas para encontrar o número (2^7=128). Enquanto não esgotarmos estas tentativas vamos perguntando ao jogador se o número que pensou é superior, inferior ou igual. Se o número for inferior, passamos o maximo a a e vamos criar outra variaável para o novo meio do novo intervalo; se for superior é o mesmo raciocício, mas é o mínimo que toma o valor de a; se for igual quer dizer que já encontramos o número.\n",
    "\n"
   ]
  },
  {
   "cell_type": "code",
   "execution_count": null,
   "metadata": {},
   "outputs": [],
   "source": [
    "def adivinha_numero():\n",
    "    maximo=100\n",
    "    minimo=0\n",
    "    a=int((maximo-minimo)/2)\n",
    "    contador=0\n",
    "    while contador <=7:\n",
    "        print(\"O número é\",a,\"?\")\n",
    "        b=str(input(\"Diga se é 'maior', 'menor' ou 'igual'\"))\n",
    "        if b=='menor':\n",
    "            maximo=a\n",
    "            medio=int((maximominimo)/2)\n",
    "            a=a+medio\n",
    "        elif b=='maior':\n",
    "            minimo=a\n",
    "            medio=int((maximo-minimo)/2)\n",
    "            a=a+medio\n",
    "        elif b=='igual':\n",
    "            print(\"O seu número é\",a,)\n",
    "        else:\n",
    "            print(\"Tente novamente\")\n",
    "            \n",
    "        contador+=1\n",
    "adivinha_numero()\n"
   ]
  }
 ],
 "metadata": {
  "kernelspec": {
   "display_name": "Python 3",
   "language": "python",
   "name": "python3"
  },
  "language_info": {
   "codemirror_mode": {
    "name": "ipython",
    "version": 3
   },
   "file_extension": ".py",
   "mimetype": "text/x-python",
   "name": "python",
   "nbconvert_exporter": "python",
   "pygments_lexer": "ipython3",
   "version": "3.8.3"
  }
 },
 "nbformat": 4,
 "nbformat_minor": 4
}
