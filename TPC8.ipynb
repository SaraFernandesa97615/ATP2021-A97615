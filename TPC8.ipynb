{
 "cells": [
  {
   "cell_type": "markdown",
   "metadata": {},
   "source": [
    "## TPC8\n",
    "\n",
    "#### Aluno: Sara Afonso Fernandes, a97615\n",
    "#### Data de início: 2021-11-17\n",
    "#### Data de término: 2021-11-18\n",
    "#### Supervisor: José Carlos Ramalho ; https://www.di.uminho.pt/~jcr/\n"
   ]
  },
  {
   "cell_type": "markdown",
   "metadata": {},
   "source": [
    "## Dataset\n",
    "\n",
    "Para a resolução dos exercícios desta ficha, descarrega o dataset de exames médicos desportivos do site da UC.\n",
    "\n",
    "### Estrutura do dataset\n",
    "O dataset tem a seguinte estrutura:\n",
    "\n",
    "```\n",
    "_id,index,dataEMD,nome/primeiro,nome/último,idade,género,morada,modalidade,clube,email,federado,resultado\n",
    "6045074cd77860ac9483d34e,0,2020-02-25,Delgado,Gay,28,F,Gloucester,BTT,ACRroriz,delgado.gay@acrroriz.biz,true,true\n",
    "6045074ca6adebd591b5d239,1,2019-07-31,Foreman,Prince,34,M,Forestburg,Ciclismo,ACDRcrespos,foreman.prince@acdrcrespos.org,false,true\n",
    "6045074c221e2fdf430e9ef0,2,2021-01-06,Cheryl,Berger,21,M,Umapine,Basquetebol,Vitoria,cheryl.berger@vitoria.biz,false,true\n",
    "6045074c529cbdce549d3923,3,2020-11-19,Graves,Goff,29,F,Babb,Andebol,AVCfamalicão,graves.goff@avcfamalicão.co.uk,false,false\n",
    "6045074c3319a0f9e79aad87,4,2019-09-01,Mckay,Bolton,29,F,Chilton,Futebol,ACDRcrespos,mckay.bolton@acdrcrespos.me,false,false\n",
    "6045074c222607e7520ffd24,5,2019-10-07,Marla,Kelley,22,M,Clarence,Atletismo,AmigosMontanha,marla.kelley@amigosmontanha.tv,false,false\n",
    "\n",
    "...\n",
    "```"
   ]
  },
  {
   "cell_type": "markdown",
   "metadata": {},
   "source": [
    "## Leitura (exercício 1)\n",
    "\n",
    "Depois de pensares num modelo adequado especifica a função que lê o ficheiro e povoa esse modelo.\n",
    "\n",
    "Nota: os valores do campo id são demasiado complexos para serem usados na aplicação pelo utilizador.\n",
    "\n",
    "Ideia: Cria ids novos, mais simples, tipo: emd00001, emd00002, ..., emd00100, ..."
   ]
  },
  {
   "cell_type": "code",
   "execution_count": 4,
   "metadata": {},
   "outputs": [],
   "source": [
    "def convBool(v): \n",
    "    return v == 'true' \n",
    "    \n",
    "def lerDataset(fnome):\n",
    "    f = open(fnome, encoding=\"utf-8\")\n",
    "    bd = []\n",
    "    f.readline()\n",
    "    for linha in f:\n",
    "        emd=[]\n",
    "        nova_linha=linha.strip(\"\\n\")\n",
    "        campos=nova_linha.split(\",\") \n",
    "        emd.append(\"emd\"+str(campos[1])) \n",
    "        emd.append(campos[2])\n",
    "        emd.append(campos[4]+ \" \" +campos[3])\n",
    "        emd=emd+campos[5:]  \n",
    "        emd[-1]=convBool(emd[-1]) \n",
    "        emd[-2]=convBool(emd[-2])\n",
    "        \n",
    "        bd.append(emd)\n",
    "        \n",
    "        \n",
    "        \n",
    "    \n",
    "    return bd\n",
    "\n",
    "#quando aparece true true é porque é federado e passou no exame, está apto "
   ]
  },
  {
   "cell_type": "code",
   "execution_count": 6,
   "metadata": {},
   "outputs": [
    {
     "name": "stdout",
     "output_type": "stream",
     "text": [
      "[['emd0', '2020-02-25', 'Gay Delgado', '28', 'F', 'Gloucester', 'BTT', 'ACRroriz', 'delgado.gay@acrroriz.biz', True, True], ['emd1', '2019-07-31', 'Prince Foreman', '34', 'M', 'Forestburg', 'Ciclismo', 'ACDRcrespos', 'foreman.prince@acdrcrespos.org', False, True], ['emd2', '2021-01-06', 'Berger Cheryl', '21', 'M', 'Umapine', 'Basquetebol', 'Vitoria', 'cheryl.berger@vitoria.biz', False, True], ['emd3', '2020-11-19', 'Goff Graves', '29', 'F', 'Babb', 'Andebol', 'AVCfamalicão', 'graves.goff@avcfamalicão.co.uk', False, False], ['emd4', '2019-09-01', 'Bolton Mckay', '29', 'F', 'Chilton', 'Futebol', 'ACDRcrespos', 'mckay.bolton@acdrcrespos.me', False, False], ['emd5', '2019-10-07', 'Kelley Marla', '22', 'M', 'Clarence', 'Atletismo', 'AmigosMontanha', 'marla.kelley@amigosmontanha.tv', False, False], ['emd6', '2020-12-11', 'Maddox Merrill', '34', 'M', 'Roderfield', 'Equitação', 'ACRroriz', 'merrill.maddox@acrroriz.com', False, True], ['emd7', '2019-03-12', 'Calderon Nikki', '22', 'F', 'Brethren', 'Patinagem', 'EDViana', 'nikki.calderon@edviana.name', True, False], ['emd8', '2020-12-09', 'Bright Lucia', '35', 'F', 'Onton', 'Orientação', 'GDGoma', 'lucia.bright@gdgoma.info', True, False], ['emd9', '2020-01-26', 'Wells Faith', '31', 'F', 'Grantville', 'Basquetebol', 'EDViana', 'faith.wells@edviana.ca', True, True], ['emd10', '2019-03-29', 'Osborn Milagros', '22', 'M', 'Dunlo', 'Patinagem', 'GDGoma', 'milagros.osborn@gdgoma.io', False, False], ['emd11', '2019-09-08', 'Sellers Valentine', '27', 'F', 'Odessa', 'Patinagem', 'EDViana', 'valentine.sellers@edviana.net', True, True], ['emd12', '2019-05-10', 'Hyde Martha', '26', 'M', 'Dupuyer', 'Triatlo', 'Vitoria', 'martha.hyde@vitoria.biz', False, False], ['emd13', '2019-04-22', 'Stevenson Beck', '35', 'F', 'Barclay', 'Dança', 'SCBraga', 'beck.stevenson@scbraga.org', True, False], ['emd14', '2019-05-05', 'Strong Lester', '21', 'M', 'Freetown', 'Patinagem', 'GDGoma', 'lester.strong@gdgoma.biz', False, False], ['emd15', '2020-03-19', 'Bradley Sharon', '30', 'M', 'Hiseville', 'Futebol', 'AVCfamalicão', 'sharon.bradley@avcfamalicão.co.uk', True, False], ['emd16', '2019-07-30', 'Dale Waters', '32', 'M', 'Bakersville', 'Andebol', 'ABCbraga', 'waters.dale@abcbraga.me', False, False], ['emd17', '2019-07-27', 'Mayer Rebekah', '32', 'F', 'Woodlake', 'Atletismo', 'ABCbraga', 'rebekah.mayer@abcbraga.tv', False, False], ['emd18', '2020-04-19', 'Howell Isabella', '28', 'M', 'Hanover', 'Basquetebol', 'AVCfamalicão', 'isabella.howell@avcfamalicão.com', False, False], ['emd19', '2019-12-28', 'Barnes Lela', '31', 'F', 'Sultana', 'Karaté', 'EDViana', 'lela.barnes@edviana.name', False, True], ['emd20', '2020-09-22', 'Hunter Eunice', '33', 'F', 'Orick', 'Basquetebol', 'ACDRcrespos', 'eunice.hunter@acdrcrespos.info', False, True], ['emd21', '2020-09-26', 'Romero Samantha', '28', 'F', 'Gadsden', 'BTT', 'Vitoria', 'samantha.romero@vitoria.ca', False, True], ['emd22', '2019-02-27', 'Mcbride Langley', '29', 'F', 'Spelter', 'Equitação', 'AVCfamalicão', 'langley.mcbride@avcfamalicão.io', False, False], ['emd23', '2021-02-25', 'Weber Castro', '31', 'M', 'Greenfields', 'Basquetebol', 'EDViana', 'castro.weber@edviana.net', False, False], ['emd24', '2019-09-29', 'Kane Logan', '26', 'M', 'Vale', 'Basquetebol', 'AVCfamalicão', 'logan.kane@avcfamalicão.biz', True, True], ['emd25', '2020-01-27', 'Robles Ina', '34', 'F', 'Succasunna', 'Ciclismo', 'AmigosMontanha', 'ina.robles@amigosmontanha.org', True, False], ['emd26', '2019-03-14', 'Hays Laverne', '31', 'F', 'Coinjock', 'Badminton', 'ACRroriz', 'laverne.hays@acrroriz.biz', True, False], ['emd27', '2019-01-28', 'Estes Haley', '21', 'F', 'Basye', 'Futebol', 'AmigosMontanha', 'haley.estes@amigosmontanha.co.uk', False, True], ['emd28', '2019-02-12', 'Meyers Munoz', '32', 'F', 'Jackpot', 'BTT', 'GDGoma', 'munoz.meyers@gdgoma.me', True, True], ['emd29', '2020-02-05', 'Herman Vaughan', '29', 'M', 'Orason', 'Triatlo', 'Vitoria', 'vaughan.herman@vitoria.tv', False, True], ['emd30', '2021-01-18', 'Mcneil Freida', '32', 'M', 'Duryea', 'Patinagem', 'SCBraga', 'freida.mcneil@scbraga.com', False, False], ['emd31', '2019-11-09', 'Rosales Emilia', '32', 'F', 'Tivoli', 'Dança', 'ACRroriz', 'emilia.rosales@acrroriz.name', False, False], ['emd32', '2020-11-03', 'Powell Julianne', '29', 'F', 'Alleghenyville', 'Andebol', 'ACRroriz', 'julianne.powell@acrroriz.info', False, False], ['emd33', '2020-05-03', 'Riddle Aisha', '33', 'M', 'Holtville', 'Triatlo', 'EDViana', 'aisha.riddle@edviana.ca', True, True], ['emd34', '2019-01-13', 'Bernard Elisa', '26', 'F', 'Alfarata', 'Futebol', 'EDViana', 'elisa.bernard@edviana.io', False, True], ['emd35', '2019-05-01', 'Diaz Freeman', '24', 'F', 'Brutus', 'Esgrima', 'ABCbraga', 'freeman.diaz@abcbraga.net', True, False], ['emd36', '2019-10-22', 'Mayo Dawson', '25', 'M', 'Roland', 'Parapente', 'ACDRcrespos', 'dawson.mayo@acdrcrespos.biz', False, False], ['emd37', '2019-05-30', 'Kennedy Castaneda', '23', 'F', 'Sparkill', 'Equitação', 'Vitoria', 'castaneda.kennedy@vitoria.org', False, True], ['emd38', '2020-02-28', 'Estrada Elma', '32', 'F', 'Tetherow', 'Andebol', 'EDViana', 'elma.estrada@edviana.biz', True, True], ['emd39', '2020-06-29', 'Powers Miranda', '29', 'M', 'Soham', 'BTT', 'ACDRcrespos', 'miranda.powers@acdrcrespos.co.uk', True, False], ['emd40', '2019-03-23', 'Michael Rosalind', '21', 'F', 'Cloverdale', 'Dança', 'ACDRcrespos', 'rosalind.michael@acdrcrespos.me', True, True], ['emd41', '2020-11-13', 'Mejia Hardin', '35', 'M', 'Inkerman', 'Futebol', 'Vitoria', 'hardin.mejia@vitoria.tv', False, True], ['emd42', '2019-09-15', 'Pope Vivian', '32', 'M', 'Bayview', 'Parapente', 'ACRroriz', 'vivian.pope@acrroriz.com', True, True], ['emd43', '2019-11-02', 'George Vang', '35', 'F', 'Rivers', 'Atletismo', 'AVCfamalicão', 'vang.george@avcfamalicão.name', True, True], ['emd44', '2020-02-09', 'Barron Leanne', '24', 'F', 'Boling', 'Badminton', 'ABCbraga', 'leanne.barron@abcbraga.info', False, True], ['emd45', '2020-01-26', 'Cantrell Jeanie', '23', 'F', 'Nord', 'Ciclismo', 'EDViana', 'jeanie.cantrell@edviana.ca', False, True], ['emd46', '2020-05-31', 'Robertson Lott', '27', 'F', 'Hannasville', 'BTT', 'SCBraga', 'lott.robertson@scbraga.io', True, False], ['emd47', '2019-07-15', 'Lawrence Tami', '33', 'M', 'Crumpler', 'Andebol', 'AVCfamalicão', 'tami.lawrence@avcfamalicão.net', True, True], ['emd48', '2019-09-24', 'Guerrero Myrna', '21', 'F', 'Bentonville', 'Atletismo', 'Vitoria', 'myrna.guerrero@vitoria.biz', True, True], ['emd49', '2019-05-27', 'Collier Mari', '22', 'F', 'Magnolia', 'Basquetebol', 'EDViana', 'mari.collier@edviana.org', False, False], ['emd50', '2019-02-04', 'Ford Lisa', '23', 'M', 'Topanga', 'Equitação', 'AmigosMontanha', 'lisa.ford@amigosmontanha.biz', False, True], ['emd51', '2020-07-03', 'Yates Brigitte', '22', 'F', 'Crucible', 'Karaté', 'AVCfamalicão', 'brigitte.yates@avcfamalicão.co.uk', False, True], ['emd52', '2020-12-17', 'Ward Lora', '29', 'M', 'Chelsea', 'BTT', 'Vitoria', 'lora.ward@vitoria.me', False, True], ['emd53', '2020-01-21', 'Walsh Robbins', '30', 'F', 'Holcombe', 'BTT', 'Vitoria', 'robbins.walsh@vitoria.tv', True, True], ['emd54', '2020-02-25', 'Brock Kristina', '22', 'F', 'Carbonville', 'Esgrima', 'EDViana', 'kristina.brock@edviana.com', False, False], ['emd55', '2020-12-28', 'Preston Kathie', '23', 'F', 'Snyderville', 'Triatlo', 'AmigosMontanha', 'kathie.preston@amigosmontanha.name', True, False], ['emd56', '2020-09-04', 'Solis Hollie', '21', 'M', 'Edgewater', 'Futebol', 'Vitoria', 'hollie.solis@vitoria.info', False, False], ['emd57', '2020-12-31', 'Kaufman Maritza', '29', 'M', 'Hall', 'Karaté', 'ACRroriz', 'maritza.kaufman@acrroriz.ca', False, True], ['emd58', '2019-10-25', 'Carney Graciela', '28', 'M', 'Ilchester', 'Basquetebol', 'AmigosMontanha', 'graciela.carney@amigosmontanha.io', True, False], ['emd59', '2019-03-12', 'Higgins Deirdre', '31', 'M', 'Clayville', 'Ciclismo', 'SCBraga', 'deirdre.higgins@scbraga.net', False, True], ['emd60', '2020-03-09', 'Tucker Wilson', '27', 'M', 'Rutherford', 'Futebol', 'EDViana', 'wilson.tucker@edviana.biz', False, False], ['emd61', '2019-06-10', 'Church Mcdowell', '31', 'M', 'Yardville', 'Badminton', 'ACRroriz', 'mcdowell.church@acrroriz.org', True, True], ['emd62', '2020-09-01', 'Craft Marie', '28', 'F', 'Barstow', 'Atletismo', 'GDGoma', 'marie.craft@gdgoma.biz', True, True], ['emd63', '2019-12-27', 'Bailey Robbie', '23', 'F', 'Blende', 'BTT', 'AmigosMontanha', 'robbie.bailey@amigosmontanha.co.uk', False, False], ['emd64', '2019-08-03', 'Edwards Chandra', '24', 'M', 'Homestead', 'Futebol', 'ABCbraga', 'chandra.edwards@abcbraga.me', False, False], ['emd65', '2020-11-07', 'Rojas Miller', '35', 'M', 'Cherokee', 'Dança', 'ABCbraga', 'miller.rojas@abcbraga.tv', False, False], ['emd66', '2020-02-27', 'Guerra Banks', '34', 'M', 'Takilma', 'Ciclismo', 'SCBraga', 'banks.guerra@scbraga.com', False, False], ['emd67', '2019-11-24', 'Shaw Carmella', '23', 'M', 'Goldfield', 'BTT', 'SCBraga', 'carmella.shaw@scbraga.name', True, False], ['emd68', '2019-09-09', 'Sargent Tania', '27', 'M', 'Allentown', 'Basquetebol', 'AVCfamalicão', 'tania.sargent@avcfamalicão.info', False, False], ['emd69', '2019-01-13', 'Graham Agnes', '31', 'M', 'Hebron', 'Orientação', 'ABCbraga', 'agnes.graham@abcbraga.ca', False, False], ['emd70', '2019-05-23', 'Melton Kristi', '25', 'M', 'Mahtowa', 'Parapente', 'ABCbraga', 'kristi.melton@abcbraga.io', False, True], ['emd71', '2020-09-26', 'Crosby Marsh', '35', 'F', 'Northridge', 'Orientação', 'AVCfamalicão', 'marsh.crosby@avcfamalicão.net', False, True], ['emd72', '2020-02-14', 'Wagner Jewel', '30', 'F', 'Levant', 'Atletismo', 'ACRroriz', 'jewel.wagner@acrroriz.biz', False, True], ['emd73', '2019-04-29', 'Pena Leticia', '23', 'M', 'Osmond', 'Dança', 'SCBraga', 'leticia.pena@scbraga.org', False, True], ['emd74', '2020-06-11', 'Conway Simmons', '29', 'F', 'Greenock', 'Andebol', 'ACDRcrespos', 'simmons.conway@acdrcrespos.biz', True, True], ['emd75', '2021-01-11', 'Colon Fields', '32', 'F', 'Farmers', 'Parapente', 'Vitoria', 'fields.colon@vitoria.co.uk', True, True], ['emd76', '2020-04-28', 'Jacobs Kristen', '21', 'M', 'Bergoo', 'Karaté', 'AVCfamalicão', 'kristen.jacobs@avcfamalicão.me', True, False], ['emd77', '2020-03-17', 'Bender Mcdonald', '21', 'M', 'Belleview', 'Badminton', 'AmigosMontanha', 'mcdonald.bender@amigosmontanha.tv', False, True], ['emd78', '2020-11-25', 'Webb Emily', '34', 'F', 'Fairmount', 'Basquetebol', 'ACDRcrespos', 'emily.webb@acdrcrespos.com', True, True], ['emd79', '2020-02-16', 'Wooten Walker', '27', 'M', 'Chamberino', 'Atletismo', 'GDGoma', 'walker.wooten@gdgoma.name', True, False], ['emd80', '2019-11-20', 'Walton Villarreal', '23', 'F', 'Waterview', 'Andebol', 'AmigosMontanha', 'villarreal.walton@amigosmontanha.info', False, False], ['emd81', '2020-12-04', 'Rivers Ashley', '27', 'M', 'Joppa', 'Basquetebol', 'ACRroriz', 'ashley.rivers@acrroriz.ca', False, False], ['emd82', '2019-10-15', 'Price Mcknight', '24', 'M', 'Ticonderoga', 'Parapente', 'Vitoria', 'mcknight.price@vitoria.io', False, True], ['emd83', '2019-10-13', 'Blevins Donna', '22', 'F', 'Gratton', 'Equitação', 'GDGoma', 'donna.blevins@gdgoma.net', True, False], ['emd84', '2020-06-17', 'Santos Cantrell', '22', 'M', 'Belvoir', 'Dança', 'ACRroriz', 'cantrell.santos@acrroriz.biz', True, True], ['emd85', '2019-09-07', 'Jefferson Maldonado', '32', 'M', 'Coalmont', 'Basquetebol', 'EDViana', 'maldonado.jefferson@edviana.org', False, True], ['emd86', '2019-04-16', 'Kirk Reva', '28', 'F', 'Rosine', 'Ciclismo', 'EDViana', 'reva.kirk@edviana.biz', False, False], ['emd87', '2019-07-17', 'Vargas Deann', '30', 'F', 'Blanford', 'Dança', 'ACDRcrespos', 'deann.vargas@acdrcrespos.co.uk', False, False], ['emd88', '2021-02-15', 'Guy Nunez', '22', 'F', 'Crown', 'Equitação', 'SCBraga', 'nunez.guy@scbraga.me', True, True], ['emd89', '2019-07-15', 'Todd Sofia', '24', 'F', 'Vicksburg', 'Futebol', 'ABCbraga', 'sofia.todd@abcbraga.tv', False, True], ['emd90', '2021-01-30', 'Madden Fowler', '33', 'M', 'Sattley', 'Andebol', 'AVCfamalicão', 'fowler.madden@avcfamalicão.com', True, False], ['emd91', '2019-12-11', 'Thomas Stone', '30', 'M', 'Moquino', 'Triatlo', 'ACRroriz', 'stone.thomas@acrroriz.name', False, True], ['emd92', '2021-01-13', 'Gilliam Bowers', '35', 'F', 'Chestnut', 'Badminton', 'AVCfamalicão', 'bowers.gilliam@avcfamalicão.info', True, False], ['emd93', '2019-11-19', 'Mcgee Goldie', '25', 'F', 'Somerset', 'Ciclismo', 'AVCfamalicão', 'goldie.mcgee@avcfamalicão.ca', True, True], ['emd94', '2019-08-13', 'French May', '33', 'F', 'Kingstowne', 'Badminton', 'GDGoma', 'may.french@gdgoma.io', False, False], ['emd95', '2020-06-03', 'Johnston Hester', '26', 'M', 'Bannock', 'Badminton', 'ACRroriz', 'hester.johnston@acrroriz.net', True, False], ['emd96', '2020-08-30', 'Combs Kim', '35', 'M', 'Chase', 'Atletismo', 'SCBraga', 'kim.combs@scbraga.biz', False, False], ['emd97', '2019-12-10', 'Vaughan Elliott', '24', 'F', 'Morgandale', 'Futebol', 'GDGoma', 'elliott.vaughan@gdgoma.org', False, True], ['emd98', '2020-02-19', 'Lowery Sherman', '33', 'F', 'Lumberton', 'Basquetebol', 'AVCfamalicão', 'sherman.lowery@avcfamalicão.biz', False, True], ['emd99', '2020-01-17', 'Emerson Peters', '30', 'F', 'Bonanza', 'Dança', 'AmigosMontanha', 'peters.emerson@amigosmontanha.co.uk', False, False], ['emd0', '2020-11-21', 'Cox Osborne', '24', 'M', 'Caroline', 'Patinagem', 'ACDRcrespos', 'osborne.cox@acdrcrespos.me', True, False], ['emd1', '2019-06-06', 'Kaufman Hurley', '33', 'F', 'Ryderwood', 'Futebol', 'ACDRcrespos', 'hurley.kaufman@acdrcrespos.name', False, False], ['emd2', '2020-11-27', 'Valencia Josefa', '25', 'F', 'Dalton', 'Triatlo', 'AmigosMontanha', 'josefa.valencia@amigosmontanha.info', False, True], ['emd3', '2020-07-21', 'Wyatt Rhea', '32', 'F', 'Greensburg', 'Karaté', 'AmigosMontanha', 'rhea.wyatt@amigosmontanha.co.uk', False, False], ['emd4', '2019-01-30', 'Morris Jennifer', '26', 'F', 'Oretta', 'Dança', 'AmigosMontanha', 'jennifer.morris@amigosmontanha.us', False, False], ['emd5', '2019-06-13', 'Duffy Annabelle', '22', 'F', 'Summerset', 'Triatlo', 'AmigosMontanha', 'annabelle.duffy@amigosmontanha.biz', True, False], ['emd6', '2020-12-28', 'Acosta Kramer', '34', 'F', 'Dotsero', 'BTT', 'ABCbraga', 'kramer.acosta@abcbraga.net', False, False], ['emd7', '2020-09-12', 'Pollard Foley', '24', 'F', 'Oceola', 'Basquetebol', 'ACRroriz', 'foley.pollard@acrroriz.org', True, True], ['emd8', '2020-10-30', 'Sandoval Ivy', '28', 'F', 'Hebron', 'Esgrima', 'ACRroriz', 'ivy.sandoval@acrroriz.ca', False, True], ['emd9', '2020-01-04', 'Farmer Lang', '31', 'M', 'Farmington', 'BTT', 'ABCbraga', 'lang.farmer@abcbraga.io', True, True], ['emd10', '2021-01-12', 'Dejesus Frost', '33', 'M', 'Glidden', 'Orientação', 'Vitoria', 'frost.dejesus@vitoria.biz', True, True], ['emd11', '2020-08-29', 'Thomas Livingston', '28', 'M', 'Coalmont', 'Triatlo', 'ACDRcrespos', 'livingston.thomas@acdrcrespos.tv', True, True], ['emd12', '2020-06-15', 'Steele Wagner', '33', 'M', 'Hemlock', 'Orientação', 'EDViana', 'wagner.steele@edviana.me', True, True], ['emd13', '2020-03-22', 'Cooke Stephenson', '29', 'F', 'Glenbrook', 'Equitação', 'SCBraga', 'stephenson.cooke@scbraga.name', False, False], ['emd14', '2019-06-01', 'Talley Alberta', '32', 'M', 'Canterwood', 'Orientação', 'ABCbraga', 'alberta.talley@abcbraga.info', False, True], ['emd15', '2019-08-11', 'Webb Liza', '34', 'M', 'Linwood', 'Andebol', 'SCBraga', 'liza.webb@scbraga.co.uk', True, True], ['emd16', '2019-12-17', 'Gamble Brooks', '27', 'F', 'Belgreen', 'BTT', 'AVCfamalicão', 'brooks.gamble@avcfamalicão.us', False, False], ['emd17', '2020-10-29', 'Davenport Blevins', '28', 'M', 'Ladera', 'Ciclismo', 'Vitoria', 'blevins.davenport@vitoria.biz', False, True], ['emd18', '2020-02-16', 'Stevens Shepard', '26', 'F', 'Edinburg', 'Badminton', 'EDViana', 'shepard.stevens@edviana.net', True, False], ['emd19', '2019-09-17', 'Tanner Nielsen', '28', 'M', 'Roy', 'BTT', 'SCBraga', 'nielsen.tanner@scbraga.org', False, False], ['emd20', '2020-02-27', 'Rosales Welch', '34', 'M', 'Warren', 'Karaté', 'AmigosMontanha', 'welch.rosales@amigosmontanha.ca', True, True], ['emd21', '2020-03-14', 'Collier Park', '30', 'F', 'Como', 'Triatlo', 'SCBraga', 'park.collier@scbraga.io', False, True], ['emd22', '2019-10-21', 'Weeks Louise', '30', 'M', 'Crucible', 'Patinagem', 'SCBraga', 'louise.weeks@scbraga.biz', True, True], ['emd23', '2020-07-08', 'Williams Fox', '27', 'M', 'Eastmont', 'Futebol', 'SCBraga', 'fox.williams@scbraga.tv', False, False], ['emd24', '2021-01-08', 'Rhodes Woodard', '34', 'F', 'Coleville', 'Karaté', 'ABCbraga', 'woodard.rhodes@abcbraga.me', True, True], ['emd25', '2020-05-22', 'Sargent Mclaughlin', '31', 'M', 'Lowgap', 'Karaté', 'AmigosMontanha', 'mclaughlin.sargent@amigosmontanha.name', False, True], ['emd26', '2019-11-22', 'Nixon Nadine', '27', 'F', 'Iola', 'Orientação', 'GDGoma', 'nadine.nixon@gdgoma.info', True, False], ['emd27', '2019-07-13', 'Pierce Tamera', '23', 'M', 'Rowe', 'Parapente', 'AmigosMontanha', 'tamera.pierce@amigosmontanha.co.uk', True, True], ['emd28', '2020-01-03', 'Dickson Isabella', '26', 'M', 'Lodoga', 'Triatlo', 'ACRroriz', 'isabella.dickson@acrroriz.us', True, False], ['emd29', '2019-07-18', 'Pittman Torres', '28', 'F', 'Loma', 'Esgrima', 'ACRroriz', 'torres.pittman@acrroriz.biz', False, False], ['emd30', '2020-06-20', 'Hart Jody', '34', 'F', 'Falmouth', 'Badminton', 'ACRroriz', 'jody.hart@acrroriz.net', False, False], ['emd31', '2020-03-24', 'Moran Francis', '30', 'F', 'Englevale', 'Orientação', 'SCBraga', 'francis.moran@scbraga.org', True, False], ['emd32', '2020-05-24', 'May Anna', '28', 'F', 'Dante', 'BTT', 'ACDRcrespos', 'anna.may@acdrcrespos.ca', True, True], ['emd33', '2020-05-04', 'Kelly Valeria', '31', 'F', 'Whitestone', 'Karaté', 'ACRroriz', 'valeria.kelly@acrroriz.io', True, True], ['emd34', '2020-09-04', 'Barrera Stanton', '29', 'F', 'Clinton', 'BTT', 'GDGoma', 'stanton.barrera@gdgoma.biz', True, False], ['emd35', '2019-07-13', 'Hensley Andrea', '26', 'M', 'Lavalette', 'BTT', 'SCBraga', 'andrea.hensley@scbraga.tv', True, True], ['emd36', '2020-04-01', 'Faulkner Mabel', '22', 'M', 'Cucumber', 'Equitação', 'GDGoma', 'mabel.faulkner@gdgoma.me', False, False], ['emd37', '2019-04-25', 'Wade Nola', '28', 'F', 'Axis', 'Karaté', 'EDViana', 'nola.wade@edviana.name', False, True], ['emd38', '2019-11-27', 'Bowman Charles', '27', 'F', 'Cumberland', 'BTT', 'AmigosMontanha', 'charles.bowman@amigosmontanha.info', True, False], ['emd39', '2020-04-06', 'Blanchard Karen', '32', 'M', 'Shaft', 'Parapente', 'GDGoma', 'karen.blanchard@gdgoma.co.uk', False, False], ['emd40', '2020-01-11', 'Ingram Shelton', '32', 'M', 'Aurora', 'Patinagem', 'ABCbraga', 'shelton.ingram@abcbraga.us', True, False], ['emd41', '2019-12-08', 'Owens Gaines', '26', 'M', 'Calverton', 'Futebol', 'ACDRcrespos', 'gaines.owens@acdrcrespos.biz', True, False], ['emd42', '2019-10-29', 'Hopper Schmidt', '21', 'M', 'Aguila', 'Basquetebol', 'SCBraga', 'schmidt.hopper@scbraga.net', False, False], ['emd43', '2020-10-18', 'Barnes Joann', '31', 'F', 'Babb', 'Basquetebol', 'Vitoria', 'joann.barnes@vitoria.org', False, False], ['emd44', '2019-05-24', 'Tyler Kent', '22', 'F', 'Venice', 'BTT', 'ACRroriz', 'kent.tyler@acrroriz.ca', False, True], ['emd45', '2020-05-11', 'Jenkins Marsh', '23', 'M', 'Bowmansville', 'Karaté', 'ACDRcrespos', 'marsh.jenkins@acdrcrespos.io', False, True], ['emd46', '2019-08-12', 'Fitzpatrick Gill', '25', 'M', 'Gibbsville', 'Basquetebol', 'Vitoria', 'gill.fitzpatrick@vitoria.biz', False, True], ['emd47', '2019-05-06', 'Jarvis Staci', '34', 'M', 'Darlington', 'Atletismo', 'EDViana', 'staci.jarvis@edviana.tv', False, True], ['emd48', '2020-04-18', 'Montoya Roberta', '29', 'M', 'Lithium', 'Badminton', 'Vitoria', 'roberta.montoya@vitoria.me', True, False], ['emd49', '2020-12-27', 'Marsh Karla', '27', 'F', 'Rodanthe', 'Patinagem', 'ACRroriz', 'karla.marsh@acrroriz.name', False, False], ['emd50', '2019-01-28', 'Mcdowell Virginia', '22', 'F', 'Joes', 'Dança', 'SCBraga', 'virginia.mcdowell@scbraga.info', False, True], ['emd51', '2020-09-26', 'Sharpe Ana', '31', 'F', 'Floris', 'Orientação', 'AmigosMontanha', 'ana.sharpe@amigosmontanha.co.uk', False, True], ['emd52', '2019-03-25', 'Zamora Newton', '23', 'F', 'Watrous', 'Badminton', 'AVCfamalicão', 'newton.zamora@avcfamalicão.us', True, True], ['emd53', '2021-01-22', 'Mercado Vivian', '34', 'F', 'Sena', 'Badminton', 'AVCfamalicão', 'vivian.mercado@avcfamalicão.biz', False, True], ['emd54', '2019-11-08', 'Whitaker Lula', '24', 'M', 'Manila', 'Ciclismo', 'SCBraga', 'lula.whitaker@scbraga.net', False, False], ['emd55', '2020-10-31', 'Marks Lily', '29', 'F', 'Sunwest', 'Badminton', 'ACDRcrespos', 'lily.marks@acdrcrespos.org', True, True], ['emd56', '2019-06-27', 'Robles Watson', '27', 'M', 'Thermal', 'Dança', 'SCBraga', 'watson.robles@scbraga.ca', False, True], ['emd57', '2019-11-05', 'Bray Rojas', '29', 'M', 'Cliffside', 'BTT', 'SCBraga', 'rojas.bray@scbraga.io', False, True], ['emd58', '2019-07-17', 'Wright Burt', '31', 'F', 'Yogaville', 'Dança', 'ACRroriz', 'burt.wright@acrroriz.biz', True, False], ['emd59', '2020-03-28', 'Hawkins Jennie', '34', 'M', 'Dennard', 'BTT', 'ABCbraga', 'jennie.hawkins@abcbraga.tv', False, True], ['emd60', '2020-07-24', 'Bean Shields', '27', 'M', 'Dunlo', 'Ciclismo', 'Vitoria', 'shields.bean@vitoria.me', False, False], ['emd61', '2020-11-11', 'Reilly Mclean', '34', 'F', 'Bentonville', 'Esgrima', 'ABCbraga', 'mclean.reilly@abcbraga.name', True, False], ['emd62', '2019-08-17', 'Russo Hunter', '21', 'F', 'Noxen', 'Orientação', 'AmigosMontanha', 'hunter.russo@amigosmontanha.info', True, False], ['emd63', '2019-10-21', 'Lee Latonya', '33', 'M', 'Cascades', 'Futebol', 'ACRroriz', 'latonya.lee@acrroriz.co.uk', True, True], ['emd64', '2020-06-03', 'Briggs Tami', '24', 'M', 'Darrtown', 'Parapente', 'SCBraga', 'tami.briggs@scbraga.us', True, False], ['emd65', '2019-11-24', 'Bishop Frank', '35', 'F', 'Temperanceville', 'Triatlo', 'Vitoria', 'frank.bishop@vitoria.biz', False, False], ['emd66', '2020-07-31', 'Castro Tanisha', '35', 'F', 'Kaka', 'Parapente', 'ACDRcrespos', 'tanisha.castro@acdrcrespos.net', False, True], ['emd67', '2020-03-23', 'Moon Allen', '30', 'F', 'Convent', 'Triatlo', 'ACDRcrespos', 'allen.moon@acdrcrespos.org', False, True], ['emd68', '2020-08-19', 'Davis Pate', '28', 'M', 'Topaz', 'Equitação', 'GDGoma', 'pate.davis@gdgoma.ca', True, True], ['emd69', '2019-02-04', 'Valentine Bishop', '31', 'F', 'Graball', 'Orientação', 'AmigosMontanha', 'bishop.valentine@amigosmontanha.io', False, True], ['emd70', '2019-01-26', 'Prince Bianca', '24', 'M', 'Walland', 'Badminton', 'EDViana', 'bianca.prince@edviana.biz', True, True], ['emd71', '2019-12-15', 'Medina Ratliff', '22', 'M', 'Zarephath', 'Esgrima', 'GDGoma', 'ratliff.medina@gdgoma.tv', False, True], ['emd72', '2020-07-19', 'Bartlett Bernice', '28', 'F', 'Bentley', 'Basquetebol', 'ABCbraga', 'bernice.bartlett@abcbraga.me', True, True], ['emd73', '2019-04-08', 'Maxwell Hodge', '35', 'M', 'Yardville', 'Karaté', 'ACDRcrespos', 'hodge.maxwell@acdrcrespos.name', False, False], ['emd74', '2019-11-14', 'Miller Mathis', '27', 'F', 'Brooktrails', 'Basquetebol', 'EDViana', 'mathis.miller@edviana.info', True, False], ['emd75', '2020-02-16', 'Randolph Foster', '27', 'F', 'Sperryville', 'Basquetebol', 'SCBraga', 'foster.randolph@scbraga.co.uk', False, True], ['emd76', '2020-02-25', 'Maddox Tammy', '26', 'F', 'Chesterfield', 'Orientação', 'Vitoria', 'tammy.maddox@vitoria.us', True, False], ['emd77', '2020-03-17', 'Daugherty Madge', '30', 'F', 'Cartwright', 'Badminton', 'GDGoma', 'madge.daugherty@gdgoma.biz', False, False], ['emd78', '2019-04-30', 'Melendez Alyssa', '29', 'F', 'Austinburg', 'Dança', 'ACRroriz', 'alyssa.melendez@acrroriz.net', True, True], ['emd79', '2019-08-22', 'Cantrell Latisha', '25', 'F', 'Johnsonburg', 'Triatlo', 'ACRroriz', 'latisha.cantrell@acrroriz.org', True, True], ['emd80', '2019-03-02', 'Petty Anne', '33', 'F', 'Summertown', 'Parapente', 'SCBraga', 'anne.petty@scbraga.ca', True, True], ['emd81', '2019-05-25', 'Baird Faulkner', '22', 'F', 'Bawcomville', 'Parapente', 'AVCfamalicão', 'faulkner.baird@avcfamalicão.io', False, False], ['emd82', '2020-11-12', 'Anderson Banks', '28', 'F', 'Lookingglass', 'Parapente', 'SCBraga', 'banks.anderson@scbraga.biz', False, False], ['emd83', '2020-08-09', 'Aguilar Frazier', '21', 'F', 'Disautel', 'Esgrima', 'ACRroriz', 'frazier.aguilar@acrroriz.tv', False, False], ['emd84', '2019-09-26', 'Rollins Combs', '24', 'M', 'Dorneyville', 'Ciclismo', 'ACRroriz', 'combs.rollins@acrroriz.me', False, True], ['emd85', '2020-07-14', 'Murphy House', '28', 'M', 'Rose', 'Ciclismo', 'SCBraga', 'house.murphy@scbraga.name', True, True], ['emd86', '2020-12-01', 'Beard Ashlee', '23', 'F', 'Monument', 'Ciclismo', 'AVCfamalicão', 'ashlee.beard@avcfamalicão.info', True, False], ['emd87', '2020-10-22', 'Schmidt Leon', '29', 'F', 'Mooresburg', 'Triatlo', 'EDViana', 'leon.schmidt@edviana.co.uk', False, False], ['emd88', '2021-01-20', 'Lyons Anita', '35', 'M', 'Homeworth', 'Parapente', 'SCBraga', 'anita.lyons@scbraga.us', True, True], ['emd89', '2020-12-03', 'Wilder Herrera', '32', 'F', 'Virgie', 'Orientação', 'SCBraga', 'herrera.wilder@scbraga.biz', False, False], ['emd90', '2020-04-14', 'Thompson Lindsay', '21', 'F', 'Topanga', 'Andebol', 'GDGoma', 'lindsay.thompson@gdgoma.net', True, True], ['emd91', '2020-12-30', 'Erickson Maynard', '23', 'M', 'Harleigh', 'Atletismo', 'Vitoria', 'maynard.erickson@vitoria.org', False, False], ['emd92', '2019-05-04', 'York Flynn', '22', 'F', 'Forbestown', 'Andebol', 'Vitoria', 'flynn.york@vitoria.ca', True, True], ['emd93', '2021-02-22', 'Miles Larsen', '31', 'M', 'Dawn', 'Dança', 'EDViana', 'larsen.miles@edviana.io', True, False], ['emd94', '2020-07-08', 'Mills Stacey', '22', 'F', 'Rosedale', 'Esgrima', 'ACDRcrespos', 'stacey.mills@acdrcrespos.biz', True, False], ['emd95', '2019-06-09', 'Perkins Stevenson', '28', 'M', 'Hinsdale', 'Karaté', 'ACDRcrespos', 'stevenson.perkins@acdrcrespos.tv', True, True], ['emd96', '2019-05-03', 'Barber Velasquez', '22', 'M', 'Madaket', 'Equitação', 'AVCfamalicão', 'velasquez.barber@avcfamalicão.me', False, True], ['emd97', '2019-07-03', 'Hahn Lawrence', '31', 'F', 'Chase', 'Badminton', 'AVCfamalicão', 'lawrence.hahn@avcfamalicão.name', False, False], ['emd98', '2020-03-15', 'Pruitt Helen', '31', 'F', 'Camino', 'Triatlo', 'AmigosMontanha', 'helen.pruitt@amigosmontanha.info', True, False], ['emd99', '2019-07-21', 'Stark Wiley', '31', 'F', 'Fairlee', 'Futebol', 'EDViana', 'wiley.stark@edviana.co.uk', False, True], ['emd0', '2020-05-31', 'Noel Smith', '33', 'F', 'Gibbsville', 'Andebol', 'GDGoma', 'smith.noel@gdgoma.me', True, False], ['emd1', '2020-08-09', 'Schmidt Joseph', '25', 'F', 'Heil', 'Esgrima', 'ACDRcrespos', 'joseph.schmidt@acdrcrespos.org', False, False], ['emd2', '2020-03-17', 'Schwartz Frank', '27', 'F', 'Fairforest', 'Dança', 'GDGoma', 'frank.schwartz@gdgoma.net', False, False], ['emd3', '2020-09-28', 'Osborne Patti', '29', 'F', 'Camas', 'Dança', 'ACDRcrespos', 'patti.osborne@acdrcrespos.ca', False, True], ['emd4', '2019-05-29', 'Hansen Frieda', '32', 'F', 'Allamuchy', 'Ciclismo', 'GDGoma', 'frieda.hansen@gdgoma.co.uk', True, False], ['emd5', '2019-01-12', 'Mcneil Elena', '34', 'F', 'Bedias', 'Orientação', 'Vitoria', 'elena.mcneil@vitoria.us', False, True], ['emd6', '2019-03-02', 'Morrison Dana', '35', 'M', 'Bluffview', 'Atletismo', 'ACRroriz', 'dana.morrison@acrroriz.tv', True, True], ['emd7', '2020-11-03', 'Scott Vera', '29', 'M', 'Dante', 'Esgrima', 'AmigosMontanha', 'vera.scott@amigosmontanha.biz', False, True], ['emd8', '2019-03-13', 'Goodwin Kristen', '24', 'M', 'Sterling', 'Esgrima', 'GDGoma', 'kristen.goodwin@gdgoma.name', False, True], ['emd9', '2020-03-01', 'Washington Haley', '33', 'M', 'Bagtown', 'BTT', 'ACRroriz', 'haley.washington@acrroriz.biz', True, True], ['emd10', '2020-11-13', 'Workman Maryann', '26', 'M', 'Goochland', 'Orientação', 'ACRroriz', 'maryann.workman@acrroriz.io', True, True], ['emd11', '2020-11-24', 'Richardson Alston', '27', 'F', 'Edinburg', 'Triatlo', 'ACDRcrespos', 'alston.richardson@acdrcrespos.com', False, True], ['emd12', '2020-03-30', 'Sweeney Albert', '34', 'M', 'Coloma', 'BTT', 'GDGoma', 'albert.sweeney@gdgoma.me', False, True], ['emd13', '2019-04-19', 'Hurley Christina', '32', 'M', 'Odessa', 'Patinagem', 'ACDRcrespos', 'christina.hurley@acdrcrespos.org', False, True], ['emd14', '2020-02-27', 'Leon Petra', '32', 'M', 'Delshire', 'Equitação', 'EDViana', 'petra.leon@edviana.net', True, False], ['emd15', '2020-02-03', 'Wooten Freda', '30', 'F', 'Craig', 'Esgrima', 'GDGoma', 'freda.wooten@gdgoma.ca', False, True], ['emd16', '2019-04-05', 'Craft Avis', '26', 'F', 'Fairmount', 'Orientação', 'ACDRcrespos', 'avis.craft@acdrcrespos.co.uk', True, True], ['emd17', '2019-09-20', 'Le Meagan', '32', 'M', 'Helen', 'Atletismo', 'ACDRcrespos', 'meagan.le@acdrcrespos.us', True, True], ['emd18', '2019-12-23', 'Dyer Jessie', '30', 'F', 'Saranap', 'Patinagem', 'Vitoria', 'jessie.dyer@vitoria.tv', False, False], ['emd19', '2019-07-09', 'Patel Rhea', '23', 'F', 'Goldfield', 'BTT', 'Vitoria', 'rhea.patel@vitoria.biz', False, False], ['emd20', '2019-10-19', 'Nelson Robles', '30', 'F', 'Gorst', 'Futebol', 'AmigosMontanha', 'robles.nelson@amigosmontanha.name', False, False], ['emd21', '2020-07-03', 'Pugh Stewart', '24', 'M', 'Lacomb', 'Andebol', 'SCBraga', 'stewart.pugh@scbraga.biz', False, True], ['emd22', '2019-01-23', 'Conrad Bowers', '24', 'M', 'Graniteville', 'Ciclismo', 'ABCbraga', 'bowers.conrad@abcbraga.io', False, True], ['emd23', '2020-03-31', 'Navarro Burch', '22', 'M', 'Bowden', 'Basquetebol', 'Vitoria', 'burch.navarro@vitoria.com', True, True], ['emd24', '2020-05-06', 'Ochoa Pruitt', '31', 'F', 'Wedgewood', 'Karaté', 'AmigosMontanha', 'pruitt.ochoa@amigosmontanha.me', True, True], ['emd25', '2019-02-02', 'Garrison Jackie', '33', 'M', 'Cedarville', 'Ciclismo', 'ACDRcrespos', 'jackie.garrison@acdrcrespos.org', True, False], ['emd26', '2019-07-21', 'Evans Garrison', '33', 'M', 'Brandermill', 'Futebol', 'ABCbraga', 'garrison.evans@abcbraga.net', True, True], ['emd27', '2020-02-04', 'Wynn Callie', '31', 'M', 'Lorraine', 'Futebol', 'GDGoma', 'callie.wynn@gdgoma.ca', False, True], ['emd28', '2021-03-02', 'Joseph Roberta', '29', 'F', 'Weedville', 'Futebol', 'AmigosMontanha', 'roberta.joseph@amigosmontanha.co.uk', False, False], ['emd29', '2019-05-23', 'Estes Young', '23', 'M', 'Alden', 'Ciclismo', 'EDViana', 'young.estes@edviana.us', True, True], ['emd30', '2019-11-04', 'Lyons Banks', '26', 'F', 'Byrnedale', 'Karaté', 'AVCfamalicão', 'banks.lyons@avcfamalicão.tv', True, True], ['emd31', '2019-05-16', 'Chan Lela', '22', 'M', 'Cuylerville', 'Patinagem', 'SCBraga', 'lela.chan@scbraga.biz', True, False], ['emd32', '2019-10-12', 'Hudson Harding', '23', 'M', 'Sanders', 'Esgrima', 'AmigosMontanha', 'harding.hudson@amigosmontanha.name', False, False], ['emd33', '2020-08-11', 'Kelley Crawford', '32', 'F', 'Loomis', 'Badminton', 'AmigosMontanha', 'crawford.kelley@amigosmontanha.biz', False, False], ['emd34', '2019-06-05', 'Rogers Celia', '28', 'M', 'Windsor', 'Triatlo', 'AmigosMontanha', 'celia.rogers@amigosmontanha.io', False, False], ['emd35', '2019-11-23', 'Maddox Kathryn', '27', 'M', 'Hannasville', 'Patinagem', 'ABCbraga', 'kathryn.maddox@abcbraga.com', True, True], ['emd36', '2019-12-26', 'Lancaster Boyle', '25', 'M', 'Katonah', 'Triatlo', 'ACDRcrespos', 'boyle.lancaster@acdrcrespos.me', True, False], ['emd37', '2019-09-04', 'Nichols Randall', '26', 'M', 'Zeba', 'Orientação', 'EDViana', 'randall.nichols@edviana.org', True, True], ['emd38', '2019-06-06', 'Kline Eve', '31', 'F', 'Emerald', 'Badminton', 'ACDRcrespos', 'eve.kline@acdrcrespos.net', True, False], ['emd39', '2019-10-08', 'Tran Foreman', '27', 'F', 'Hollins', 'Equitação', 'ABCbraga', 'foreman.tran@abcbraga.ca', True, False], ['emd40', '2021-01-26', 'Sampson Levine', '21', 'F', 'Martinez', 'Basquetebol', 'Vitoria', 'levine.sampson@vitoria.co.uk', False, False], ['emd41', '2019-05-19', 'Carroll Jacobs', '27', 'M', 'Ripley', 'Andebol', 'AVCfamalicão', 'jacobs.carroll@avcfamalicão.us', True, True], ['emd42', '2020-09-29', 'Hardin Price', '35', 'M', 'Rodman', 'BTT', 'SCBraga', 'price.hardin@scbraga.tv', True, True], ['emd43', '2019-09-28', 'Zimmerman Bell', '24', 'M', 'Thomasville', 'Andebol', 'ABCbraga', 'bell.zimmerman@abcbraga.biz', False, False], ['emd44', '2020-08-31', 'Lynch Lena', '26', 'F', 'Makena', 'Badminton', 'AVCfamalicão', 'lena.lynch@avcfamalicão.name', False, True], ['emd45', '2020-09-26', 'Spencer Summer', '21', 'F', 'Rosburg', 'Andebol', 'ACRroriz', 'summer.spencer@acrroriz.biz', True, True], ['emd46', '2019-08-04', 'Peterson Brock', '31', 'M', 'Glasgow', 'Futebol', 'AmigosMontanha', 'brock.peterson@amigosmontanha.io', False, True], ['emd47', '2019-02-25', 'Burks Hood', '26', 'M', 'Nelson', 'Andebol', 'ACRroriz', 'hood.burks@acrroriz.com', False, False], ['emd48', '2020-11-08', 'Dean Letitia', '29', 'M', 'Berlin', 'Ciclismo', 'EDViana', 'letitia.dean@edviana.me', False, True], ['emd49', '2019-05-24', 'Ballard Tanya', '26', 'F', 'Norwood', 'Andebol', 'ABCbraga', 'tanya.ballard@abcbraga.org', True, True], ['emd50', '2019-11-08', 'Price Blackburn', '23', 'F', 'Iola', 'Andebol', 'ACRroriz', 'blackburn.price@acrroriz.net', True, False], ['emd51', '2020-04-01', 'Woods Kate', '23', 'F', 'Neibert', 'Atletismo', 'ACRroriz', 'kate.woods@acrroriz.ca', False, True], ['emd52', '2020-01-24', 'Bryan Justice', '34', 'F', 'Thornport', 'Triatlo', 'ACDRcrespos', 'justice.bryan@acdrcrespos.co.uk', False, True], ['emd53', '2019-12-14', 'Harrison Gilbert', '28', 'M', 'Stagecoach', 'Basquetebol', 'ABCbraga', 'gilbert.harrison@abcbraga.us', True, True], ['emd54', '2020-09-28', 'Norris Christa', '32', 'F', 'Levant', 'Basquetebol', 'ACRroriz', 'christa.norris@acrroriz.tv', False, True], ['emd55', '2020-07-24', 'Henry Dixon', '25', 'M', 'Grazierville', 'Ciclismo', 'ABCbraga', 'dixon.henry@abcbraga.biz', False, False], ['emd56', '2020-04-10', 'Ayala Silvia', '24', 'F', 'Macdona', 'BTT', 'ABCbraga', 'silvia.ayala@abcbraga.name', True, True], ['emd57', '2020-11-15', 'Summers Marci', '24', 'M', 'Monument', 'Ciclismo', 'SCBraga', 'marci.summers@scbraga.biz', False, False], ['emd58', '2019-11-17', 'Torres Powers', '31', 'M', 'Bakersville', 'BTT', 'ACRroriz', 'powers.torres@acrroriz.io', True, False], ['emd59', '2019-11-05', 'Curtis Curtis', '25', 'M', 'Coalmont', 'Karaté', 'AmigosMontanha', 'curtis.curtis@amigosmontanha.com', False, True], ['emd60', '2019-12-11', 'Greer Sheppard', '30', 'F', 'Navarre', 'Atletismo', 'AVCfamalicão', 'sheppard.greer@avcfamalicão.me', True, False], ['emd61', '2020-10-08', 'Lindsay Carmella', '26', 'M', 'Alafaya', 'Futebol', 'ACDRcrespos', 'carmella.lindsay@acdrcrespos.org', True, True], ['emd62', '2019-11-14', 'Barker Geneva', '33', 'M', 'Chamberino', 'Ciclismo', 'AmigosMontanha', 'geneva.barker@amigosmontanha.net', False, True], ['emd63', '2020-03-24', 'Kirk Cassie', '32', 'M', 'Templeton', 'Karaté', 'ACDRcrespos', 'cassie.kirk@acdrcrespos.ca', False, True], ['emd64', '2019-12-30', 'Blair Le', '26', 'F', 'Kersey', 'BTT', 'EDViana', 'le.blair@edviana.co.uk', True, True], ['emd65', '2020-03-24', 'Williams Dolores', '32', 'F', 'Marne', 'Dança', 'Vitoria', 'dolores.williams@vitoria.us', True, True], ['emd66', '2019-01-25', 'Gould Madeleine', '28', 'M', 'Osage', 'Karaté', 'ABCbraga', 'madeleine.gould@abcbraga.tv', True, False], ['emd67', '2019-04-24', 'Gilliam Farrell', '23', 'M', 'Taycheedah', 'Andebol', 'AVCfamalicão', 'farrell.gilliam@avcfamalicão.biz', False, True], ['emd68', '2020-09-13', 'Grant Evelyn', '25', 'F', 'Callaghan', 'Esgrima', 'GDGoma', 'evelyn.grant@gdgoma.name', False, True], ['emd69', '2019-11-15', 'Allen Decker', '26', 'F', 'Gilgo', 'Badminton', 'AmigosMontanha', 'decker.allen@amigosmontanha.biz', True, True], ['emd70', '2020-05-21', 'Mcintosh Skinner', '22', 'F', 'Lawrence', 'Triatlo', 'AmigosMontanha', 'skinner.mcintosh@amigosmontanha.io', False, False], ['emd71', '2021-02-06', 'Byrd Stefanie', '34', 'M', 'Bellfountain', 'Esgrima', 'EDViana', 'stefanie.byrd@edviana.com', True, False], ['emd72', '2020-11-25', 'Frost Blevins', '28', 'F', 'Comptche', 'Dança', 'EDViana', 'blevins.frost@edviana.me', True, False], ['emd73', '2019-09-20', 'Lara Ayers', '22', 'M', 'Layhill', 'Karaté', 'Vitoria', 'ayers.lara@vitoria.org', True, False], ['emd74', '2019-05-31', 'Burke Trujillo', '21', 'M', 'Gardiner', 'Triatlo', 'AVCfamalicão', 'trujillo.burke@avcfamalicão.net', False, True], ['emd75', '2020-01-05', 'Reid Garner', '31', 'M', 'Roeville', 'Karaté', 'ACRroriz', 'garner.reid@acrroriz.ca', False, True], ['emd76', '2020-11-28', 'Young Esmeralda', '32', 'F', 'Delwood', 'Dança', 'ACDRcrespos', 'esmeralda.young@acdrcrespos.co.uk', False, True], ['emd77', '2019-01-17', 'Mcclure Kramer', '22', 'F', 'Darbydale', 'Karaté', 'ABCbraga', 'kramer.mcclure@abcbraga.us', True, True], ['emd78', '2019-11-16', 'Stone Deanne', '26', 'M', 'Coral', 'Equitação', 'AVCfamalicão', 'deanne.stone@avcfamalicão.tv', False, True], ['emd79', '2020-05-13', 'Love Jacqueline', '23', 'F', 'Idamay', 'Andebol', 'ACDRcrespos', 'jacqueline.love@acdrcrespos.biz', False, False], ['emd80', '2019-09-02', 'Mathis Holcomb', '22', 'M', 'Boonville', 'Badminton', 'ACDRcrespos', 'holcomb.mathis@acdrcrespos.name', True, True], ['emd81', '2019-08-03', 'Flynn Amalia', '28', 'M', 'Morriston', 'Badminton', 'ACDRcrespos', 'amalia.flynn@acdrcrespos.biz', True, True], ['emd82', '2019-09-27', 'Mcfadden Maria', '25', 'F', 'Morgandale', 'Atletismo', 'Vitoria', 'maria.mcfadden@vitoria.io', True, False], ['emd83', '2019-10-30', 'Kidd Landry', '33', 'F', 'Grandview', 'Parapente', 'Vitoria', 'landry.kidd@vitoria.com', False, True], ['emd84', '2019-06-21', 'Singleton Burton', '27', 'M', 'Trucksville', 'Badminton', 'AmigosMontanha', 'burton.singleton@amigosmontanha.me', True, True], ['emd85', '2020-04-28', 'Yang Shaw', '33', 'F', 'Needmore', 'Dança', 'SCBraga', 'shaw.yang@scbraga.org', False, False], ['emd86', '2019-11-23', 'Robbins Pacheco', '21', 'M', 'Joes', 'Parapente', 'EDViana', 'pacheco.robbins@edviana.net', False, False], ['emd87', '2019-09-26', 'Franco Deana', '32', 'M', 'Robbins', 'Dança', 'EDViana', 'deana.franco@edviana.ca', False, False], ['emd88', '2020-01-31', 'Meyers Velazquez', '34', 'F', 'Dennard', 'Ciclismo', 'ACDRcrespos', 'velazquez.meyers@acdrcrespos.co.uk', False, True], ['emd89', '2020-08-25', 'Booker Roth', '33', 'F', 'Talpa', 'Patinagem', 'ACDRcrespos', 'roth.booker@acdrcrespos.us', True, False], ['emd90', '2020-12-02', 'Chang Chase', '27', 'F', 'Beaverdale', 'Dança', 'Vitoria', 'chase.chang@vitoria.tv', True, False], ['emd91', '2019-04-02', 'Bell Barr', '33', 'F', 'Hillsboro', 'Parapente', 'AVCfamalicão', 'barr.bell@avcfamalicão.biz', True, False], ['emd92', '2019-12-13', 'Mccormick Daniel', '27', 'F', 'Floriston', 'Badminton', 'EDViana', 'daniel.mccormick@edviana.name', False, True], ['emd93', '2020-02-19', 'Levine Lilian', '30', 'F', 'Alamo', 'Parapente', 'EDViana', 'lilian.levine@edviana.biz', True, True], ['emd94', '2020-04-09', 'Curry Cunningham', '24', 'M', 'Elwood', 'Ciclismo', 'ABCbraga', 'cunningham.curry@abcbraga.io', False, True], ['emd95', '2020-11-24', 'Chaney Dalton', '30', 'F', 'Yukon', 'Triatlo', 'ACDRcrespos', 'dalton.chaney@acdrcrespos.com', True, False], ['emd96', '2020-03-14', 'Poole Chrystal', '28', 'M', 'Thynedale', 'BTT', 'ACDRcrespos', 'chrystal.poole@acdrcrespos.me', False, True], ['emd97', '2019-10-19', 'Wise Joanne', '21', 'F', 'Gerber', 'Triatlo', 'ABCbraga', 'joanne.wise@abcbraga.org', True, False], ['emd98', '2021-02-15', 'Gay Douglas', '29', 'F', 'Lowgap', 'Atletismo', 'GDGoma', 'douglas.gay@gdgoma.net', True, True], ['emd99', '2021-01-13', 'Best Glenn', '27', 'M', 'Graball', 'BTT', 'AVCfamalicão', 'glenn.best@avcfamalicão.ca', True, True]]\n"
     ]
    }
   ],
   "source": [
    "#import os\n",
    "#print(os.getcwd()) #diz em que diretoria estamos \n",
    "BD = []\n",
    "BD = lerDataset(\"../algoritmos/emd.csv\")\n",
    "print(BD)"
   ]
  },
  {
   "cell_type": "markdown",
   "metadata": {},
   "source": [
    "## Listagem (exercício 2)\n",
    "\n",
    "Especifica uma função que faça a listagem no monitor dos vários registos de informação por ordem cronológica decrescente.\n",
    "\n",
    "Tenta dar a forma duma tabela em que as colunas têm todas a mesma dimensão."
   ]
  },
  {
   "cell_type": "code",
   "execution_count": 7,
   "metadata": {},
   "outputs": [],
   "source": [
    "# Listagem da informação\n",
    "def listarDataset(bd):\n",
    "    print(\"id       |nome                         |data      |resultado      \")\n",
    "    print(\"-----------------------------------------------------------------\")\n",
    "    for e in bd:\n",
    "        if e[-1]:\n",
    "            res= \"Apto\"\n",
    "        else:\n",
    "            res=\"Não\"\n",
    "        print(e[0] + \" | \" + e[2]+ \"|\"  + e[1] + \"|\" +res)\n",
    "    return \n"
   ]
  },
  {
   "cell_type": "code",
   "execution_count": 8,
   "metadata": {},
   "outputs": [
    {
     "name": "stdout",
     "output_type": "stream",
     "text": [
      "id       |nome                         |data      |resultado      \n",
      "-----------------------------------------------------------------\n",
      "emd0 | Gay Delgado|2020-02-25|Apto\n",
      "emd1 | Prince Foreman|2019-07-31|Apto\n",
      "emd2 | Berger Cheryl|2021-01-06|Apto\n",
      "emd3 | Goff Graves|2020-11-19|Não\n",
      "emd4 | Bolton Mckay|2019-09-01|Não\n",
      "emd5 | Kelley Marla|2019-10-07|Não\n",
      "emd6 | Maddox Merrill|2020-12-11|Apto\n",
      "emd7 | Calderon Nikki|2019-03-12|Não\n",
      "emd8 | Bright Lucia|2020-12-09|Não\n",
      "emd9 | Wells Faith|2020-01-26|Apto\n",
      "emd10 | Osborn Milagros|2019-03-29|Não\n",
      "emd11 | Sellers Valentine|2019-09-08|Apto\n",
      "emd12 | Hyde Martha|2019-05-10|Não\n",
      "emd13 | Stevenson Beck|2019-04-22|Não\n",
      "emd14 | Strong Lester|2019-05-05|Não\n",
      "emd15 | Bradley Sharon|2020-03-19|Não\n",
      "emd16 | Dale Waters|2019-07-30|Não\n",
      "emd17 | Mayer Rebekah|2019-07-27|Não\n",
      "emd18 | Howell Isabella|2020-04-19|Não\n",
      "emd19 | Barnes Lela|2019-12-28|Apto\n",
      "emd20 | Hunter Eunice|2020-09-22|Apto\n",
      "emd21 | Romero Samantha|2020-09-26|Apto\n",
      "emd22 | Mcbride Langley|2019-02-27|Não\n",
      "emd23 | Weber Castro|2021-02-25|Não\n",
      "emd24 | Kane Logan|2019-09-29|Apto\n",
      "emd25 | Robles Ina|2020-01-27|Não\n",
      "emd26 | Hays Laverne|2019-03-14|Não\n",
      "emd27 | Estes Haley|2019-01-28|Apto\n",
      "emd28 | Meyers Munoz|2019-02-12|Apto\n",
      "emd29 | Herman Vaughan|2020-02-05|Apto\n",
      "emd30 | Mcneil Freida|2021-01-18|Não\n",
      "emd31 | Rosales Emilia|2019-11-09|Não\n",
      "emd32 | Powell Julianne|2020-11-03|Não\n",
      "emd33 | Riddle Aisha|2020-05-03|Apto\n",
      "emd34 | Bernard Elisa|2019-01-13|Apto\n",
      "emd35 | Diaz Freeman|2019-05-01|Não\n",
      "emd36 | Mayo Dawson|2019-10-22|Não\n",
      "emd37 | Kennedy Castaneda|2019-05-30|Apto\n",
      "emd38 | Estrada Elma|2020-02-28|Apto\n",
      "emd39 | Powers Miranda|2020-06-29|Não\n",
      "emd40 | Michael Rosalind|2019-03-23|Apto\n",
      "emd41 | Mejia Hardin|2020-11-13|Apto\n",
      "emd42 | Pope Vivian|2019-09-15|Apto\n",
      "emd43 | George Vang|2019-11-02|Apto\n",
      "emd44 | Barron Leanne|2020-02-09|Apto\n",
      "emd45 | Cantrell Jeanie|2020-01-26|Apto\n",
      "emd46 | Robertson Lott|2020-05-31|Não\n",
      "emd47 | Lawrence Tami|2019-07-15|Apto\n",
      "emd48 | Guerrero Myrna|2019-09-24|Apto\n",
      "emd49 | Collier Mari|2019-05-27|Não\n",
      "emd50 | Ford Lisa|2019-02-04|Apto\n",
      "emd51 | Yates Brigitte|2020-07-03|Apto\n",
      "emd52 | Ward Lora|2020-12-17|Apto\n",
      "emd53 | Walsh Robbins|2020-01-21|Apto\n",
      "emd54 | Brock Kristina|2020-02-25|Não\n",
      "emd55 | Preston Kathie|2020-12-28|Não\n",
      "emd56 | Solis Hollie|2020-09-04|Não\n",
      "emd57 | Kaufman Maritza|2020-12-31|Apto\n",
      "emd58 | Carney Graciela|2019-10-25|Não\n",
      "emd59 | Higgins Deirdre|2019-03-12|Apto\n",
      "emd60 | Tucker Wilson|2020-03-09|Não\n",
      "emd61 | Church Mcdowell|2019-06-10|Apto\n",
      "emd62 | Craft Marie|2020-09-01|Apto\n",
      "emd63 | Bailey Robbie|2019-12-27|Não\n",
      "emd64 | Edwards Chandra|2019-08-03|Não\n",
      "emd65 | Rojas Miller|2020-11-07|Não\n",
      "emd66 | Guerra Banks|2020-02-27|Não\n",
      "emd67 | Shaw Carmella|2019-11-24|Não\n",
      "emd68 | Sargent Tania|2019-09-09|Não\n",
      "emd69 | Graham Agnes|2019-01-13|Não\n",
      "emd70 | Melton Kristi|2019-05-23|Apto\n",
      "emd71 | Crosby Marsh|2020-09-26|Apto\n",
      "emd72 | Wagner Jewel|2020-02-14|Apto\n",
      "emd73 | Pena Leticia|2019-04-29|Apto\n",
      "emd74 | Conway Simmons|2020-06-11|Apto\n",
      "emd75 | Colon Fields|2021-01-11|Apto\n",
      "emd76 | Jacobs Kristen|2020-04-28|Não\n",
      "emd77 | Bender Mcdonald|2020-03-17|Apto\n",
      "emd78 | Webb Emily|2020-11-25|Apto\n",
      "emd79 | Wooten Walker|2020-02-16|Não\n",
      "emd80 | Walton Villarreal|2019-11-20|Não\n",
      "emd81 | Rivers Ashley|2020-12-04|Não\n",
      "emd82 | Price Mcknight|2019-10-15|Apto\n",
      "emd83 | Blevins Donna|2019-10-13|Não\n",
      "emd84 | Santos Cantrell|2020-06-17|Apto\n",
      "emd85 | Jefferson Maldonado|2019-09-07|Apto\n",
      "emd86 | Kirk Reva|2019-04-16|Não\n",
      "emd87 | Vargas Deann|2019-07-17|Não\n",
      "emd88 | Guy Nunez|2021-02-15|Apto\n",
      "emd89 | Todd Sofia|2019-07-15|Apto\n",
      "emd90 | Madden Fowler|2021-01-30|Não\n",
      "emd91 | Thomas Stone|2019-12-11|Apto\n",
      "emd92 | Gilliam Bowers|2021-01-13|Não\n",
      "emd93 | Mcgee Goldie|2019-11-19|Apto\n",
      "emd94 | French May|2019-08-13|Não\n",
      "emd95 | Johnston Hester|2020-06-03|Não\n",
      "emd96 | Combs Kim|2020-08-30|Não\n",
      "emd97 | Vaughan Elliott|2019-12-10|Apto\n",
      "emd98 | Lowery Sherman|2020-02-19|Apto\n",
      "emd99 | Emerson Peters|2020-01-17|Não\n",
      "emd0 | Cox Osborne|2020-11-21|Não\n",
      "emd1 | Kaufman Hurley|2019-06-06|Não\n",
      "emd2 | Valencia Josefa|2020-11-27|Apto\n",
      "emd3 | Wyatt Rhea|2020-07-21|Não\n",
      "emd4 | Morris Jennifer|2019-01-30|Não\n",
      "emd5 | Duffy Annabelle|2019-06-13|Não\n",
      "emd6 | Acosta Kramer|2020-12-28|Não\n",
      "emd7 | Pollard Foley|2020-09-12|Apto\n",
      "emd8 | Sandoval Ivy|2020-10-30|Apto\n",
      "emd9 | Farmer Lang|2020-01-04|Apto\n",
      "emd10 | Dejesus Frost|2021-01-12|Apto\n",
      "emd11 | Thomas Livingston|2020-08-29|Apto\n",
      "emd12 | Steele Wagner|2020-06-15|Apto\n",
      "emd13 | Cooke Stephenson|2020-03-22|Não\n",
      "emd14 | Talley Alberta|2019-06-01|Apto\n",
      "emd15 | Webb Liza|2019-08-11|Apto\n",
      "emd16 | Gamble Brooks|2019-12-17|Não\n",
      "emd17 | Davenport Blevins|2020-10-29|Apto\n",
      "emd18 | Stevens Shepard|2020-02-16|Não\n",
      "emd19 | Tanner Nielsen|2019-09-17|Não\n",
      "emd20 | Rosales Welch|2020-02-27|Apto\n",
      "emd21 | Collier Park|2020-03-14|Apto\n",
      "emd22 | Weeks Louise|2019-10-21|Apto\n",
      "emd23 | Williams Fox|2020-07-08|Não\n",
      "emd24 | Rhodes Woodard|2021-01-08|Apto\n",
      "emd25 | Sargent Mclaughlin|2020-05-22|Apto\n",
      "emd26 | Nixon Nadine|2019-11-22|Não\n",
      "emd27 | Pierce Tamera|2019-07-13|Apto\n",
      "emd28 | Dickson Isabella|2020-01-03|Não\n",
      "emd29 | Pittman Torres|2019-07-18|Não\n",
      "emd30 | Hart Jody|2020-06-20|Não\n",
      "emd31 | Moran Francis|2020-03-24|Não\n",
      "emd32 | May Anna|2020-05-24|Apto\n",
      "emd33 | Kelly Valeria|2020-05-04|Apto\n",
      "emd34 | Barrera Stanton|2020-09-04|Não\n",
      "emd35 | Hensley Andrea|2019-07-13|Apto\n",
      "emd36 | Faulkner Mabel|2020-04-01|Não\n",
      "emd37 | Wade Nola|2019-04-25|Apto\n",
      "emd38 | Bowman Charles|2019-11-27|Não\n",
      "emd39 | Blanchard Karen|2020-04-06|Não\n",
      "emd40 | Ingram Shelton|2020-01-11|Não\n",
      "emd41 | Owens Gaines|2019-12-08|Não\n",
      "emd42 | Hopper Schmidt|2019-10-29|Não\n",
      "emd43 | Barnes Joann|2020-10-18|Não\n",
      "emd44 | Tyler Kent|2019-05-24|Apto\n",
      "emd45 | Jenkins Marsh|2020-05-11|Apto\n",
      "emd46 | Fitzpatrick Gill|2019-08-12|Apto\n",
      "emd47 | Jarvis Staci|2019-05-06|Apto\n",
      "emd48 | Montoya Roberta|2020-04-18|Não\n",
      "emd49 | Marsh Karla|2020-12-27|Não\n",
      "emd50 | Mcdowell Virginia|2019-01-28|Apto\n",
      "emd51 | Sharpe Ana|2020-09-26|Apto\n",
      "emd52 | Zamora Newton|2019-03-25|Apto\n",
      "emd53 | Mercado Vivian|2021-01-22|Apto\n",
      "emd54 | Whitaker Lula|2019-11-08|Não\n",
      "emd55 | Marks Lily|2020-10-31|Apto\n",
      "emd56 | Robles Watson|2019-06-27|Apto\n",
      "emd57 | Bray Rojas|2019-11-05|Apto\n",
      "emd58 | Wright Burt|2019-07-17|Não\n",
      "emd59 | Hawkins Jennie|2020-03-28|Apto\n",
      "emd60 | Bean Shields|2020-07-24|Não\n",
      "emd61 | Reilly Mclean|2020-11-11|Não\n",
      "emd62 | Russo Hunter|2019-08-17|Não\n",
      "emd63 | Lee Latonya|2019-10-21|Apto\n",
      "emd64 | Briggs Tami|2020-06-03|Não\n",
      "emd65 | Bishop Frank|2019-11-24|Não\n",
      "emd66 | Castro Tanisha|2020-07-31|Apto\n",
      "emd67 | Moon Allen|2020-03-23|Apto\n",
      "emd68 | Davis Pate|2020-08-19|Apto\n",
      "emd69 | Valentine Bishop|2019-02-04|Apto\n",
      "emd70 | Prince Bianca|2019-01-26|Apto\n",
      "emd71 | Medina Ratliff|2019-12-15|Apto\n",
      "emd72 | Bartlett Bernice|2020-07-19|Apto\n",
      "emd73 | Maxwell Hodge|2019-04-08|Não\n",
      "emd74 | Miller Mathis|2019-11-14|Não\n",
      "emd75 | Randolph Foster|2020-02-16|Apto\n",
      "emd76 | Maddox Tammy|2020-02-25|Não\n",
      "emd77 | Daugherty Madge|2020-03-17|Não\n",
      "emd78 | Melendez Alyssa|2019-04-30|Apto\n",
      "emd79 | Cantrell Latisha|2019-08-22|Apto\n",
      "emd80 | Petty Anne|2019-03-02|Apto\n",
      "emd81 | Baird Faulkner|2019-05-25|Não\n",
      "emd82 | Anderson Banks|2020-11-12|Não\n",
      "emd83 | Aguilar Frazier|2020-08-09|Não\n",
      "emd84 | Rollins Combs|2019-09-26|Apto\n",
      "emd85 | Murphy House|2020-07-14|Apto\n",
      "emd86 | Beard Ashlee|2020-12-01|Não\n",
      "emd87 | Schmidt Leon|2020-10-22|Não\n",
      "emd88 | Lyons Anita|2021-01-20|Apto\n",
      "emd89 | Wilder Herrera|2020-12-03|Não\n",
      "emd90 | Thompson Lindsay|2020-04-14|Apto\n",
      "emd91 | Erickson Maynard|2020-12-30|Não\n",
      "emd92 | York Flynn|2019-05-04|Apto\n",
      "emd93 | Miles Larsen|2021-02-22|Não\n",
      "emd94 | Mills Stacey|2020-07-08|Não\n",
      "emd95 | Perkins Stevenson|2019-06-09|Apto\n",
      "emd96 | Barber Velasquez|2019-05-03|Apto\n",
      "emd97 | Hahn Lawrence|2019-07-03|Não\n",
      "emd98 | Pruitt Helen|2020-03-15|Não\n",
      "emd99 | Stark Wiley|2019-07-21|Apto\n",
      "emd0 | Noel Smith|2020-05-31|Não\n",
      "emd1 | Schmidt Joseph|2020-08-09|Não\n",
      "emd2 | Schwartz Frank|2020-03-17|Não\n",
      "emd3 | Osborne Patti|2020-09-28|Apto\n",
      "emd4 | Hansen Frieda|2019-05-29|Não\n",
      "emd5 | Mcneil Elena|2019-01-12|Apto\n",
      "emd6 | Morrison Dana|2019-03-02|Apto\n",
      "emd7 | Scott Vera|2020-11-03|Apto\n",
      "emd8 | Goodwin Kristen|2019-03-13|Apto\n",
      "emd9 | Washington Haley|2020-03-01|Apto\n",
      "emd10 | Workman Maryann|2020-11-13|Apto\n",
      "emd11 | Richardson Alston|2020-11-24|Apto\n",
      "emd12 | Sweeney Albert|2020-03-30|Apto\n",
      "emd13 | Hurley Christina|2019-04-19|Apto\n",
      "emd14 | Leon Petra|2020-02-27|Não\n",
      "emd15 | Wooten Freda|2020-02-03|Apto\n",
      "emd16 | Craft Avis|2019-04-05|Apto\n",
      "emd17 | Le Meagan|2019-09-20|Apto\n",
      "emd18 | Dyer Jessie|2019-12-23|Não\n",
      "emd19 | Patel Rhea|2019-07-09|Não\n",
      "emd20 | Nelson Robles|2019-10-19|Não\n",
      "emd21 | Pugh Stewart|2020-07-03|Apto\n",
      "emd22 | Conrad Bowers|2019-01-23|Apto\n",
      "emd23 | Navarro Burch|2020-03-31|Apto\n",
      "emd24 | Ochoa Pruitt|2020-05-06|Apto\n",
      "emd25 | Garrison Jackie|2019-02-02|Não\n",
      "emd26 | Evans Garrison|2019-07-21|Apto\n",
      "emd27 | Wynn Callie|2020-02-04|Apto\n",
      "emd28 | Joseph Roberta|2021-03-02|Não\n",
      "emd29 | Estes Young|2019-05-23|Apto\n",
      "emd30 | Lyons Banks|2019-11-04|Apto\n",
      "emd31 | Chan Lela|2019-05-16|Não\n",
      "emd32 | Hudson Harding|2019-10-12|Não\n",
      "emd33 | Kelley Crawford|2020-08-11|Não\n",
      "emd34 | Rogers Celia|2019-06-05|Não\n",
      "emd35 | Maddox Kathryn|2019-11-23|Apto\n",
      "emd36 | Lancaster Boyle|2019-12-26|Não\n",
      "emd37 | Nichols Randall|2019-09-04|Apto\n",
      "emd38 | Kline Eve|2019-06-06|Não\n",
      "emd39 | Tran Foreman|2019-10-08|Não\n",
      "emd40 | Sampson Levine|2021-01-26|Não\n",
      "emd41 | Carroll Jacobs|2019-05-19|Apto\n",
      "emd42 | Hardin Price|2020-09-29|Apto\n",
      "emd43 | Zimmerman Bell|2019-09-28|Não\n",
      "emd44 | Lynch Lena|2020-08-31|Apto\n",
      "emd45 | Spencer Summer|2020-09-26|Apto\n",
      "emd46 | Peterson Brock|2019-08-04|Apto\n",
      "emd47 | Burks Hood|2019-02-25|Não\n",
      "emd48 | Dean Letitia|2020-11-08|Apto\n",
      "emd49 | Ballard Tanya|2019-05-24|Apto\n",
      "emd50 | Price Blackburn|2019-11-08|Não\n",
      "emd51 | Woods Kate|2020-04-01|Apto\n",
      "emd52 | Bryan Justice|2020-01-24|Apto\n",
      "emd53 | Harrison Gilbert|2019-12-14|Apto\n",
      "emd54 | Norris Christa|2020-09-28|Apto\n",
      "emd55 | Henry Dixon|2020-07-24|Não\n",
      "emd56 | Ayala Silvia|2020-04-10|Apto\n",
      "emd57 | Summers Marci|2020-11-15|Não\n",
      "emd58 | Torres Powers|2019-11-17|Não\n",
      "emd59 | Curtis Curtis|2019-11-05|Apto\n",
      "emd60 | Greer Sheppard|2019-12-11|Não\n",
      "emd61 | Lindsay Carmella|2020-10-08|Apto\n",
      "emd62 | Barker Geneva|2019-11-14|Apto\n",
      "emd63 | Kirk Cassie|2020-03-24|Apto\n",
      "emd64 | Blair Le|2019-12-30|Apto\n",
      "emd65 | Williams Dolores|2020-03-24|Apto\n",
      "emd66 | Gould Madeleine|2019-01-25|Não\n",
      "emd67 | Gilliam Farrell|2019-04-24|Apto\n",
      "emd68 | Grant Evelyn|2020-09-13|Apto\n",
      "emd69 | Allen Decker|2019-11-15|Apto\n",
      "emd70 | Mcintosh Skinner|2020-05-21|Não\n",
      "emd71 | Byrd Stefanie|2021-02-06|Não\n",
      "emd72 | Frost Blevins|2020-11-25|Não\n",
      "emd73 | Lara Ayers|2019-09-20|Não\n",
      "emd74 | Burke Trujillo|2019-05-31|Apto\n",
      "emd75 | Reid Garner|2020-01-05|Apto\n",
      "emd76 | Young Esmeralda|2020-11-28|Apto\n",
      "emd77 | Mcclure Kramer|2019-01-17|Apto\n",
      "emd78 | Stone Deanne|2019-11-16|Apto\n",
      "emd79 | Love Jacqueline|2020-05-13|Não\n",
      "emd80 | Mathis Holcomb|2019-09-02|Apto\n",
      "emd81 | Flynn Amalia|2019-08-03|Apto\n",
      "emd82 | Mcfadden Maria|2019-09-27|Não\n",
      "emd83 | Kidd Landry|2019-10-30|Apto\n",
      "emd84 | Singleton Burton|2019-06-21|Apto\n",
      "emd85 | Yang Shaw|2020-04-28|Não\n",
      "emd86 | Robbins Pacheco|2019-11-23|Não\n",
      "emd87 | Franco Deana|2019-09-26|Não\n",
      "emd88 | Meyers Velazquez|2020-01-31|Apto\n",
      "emd89 | Booker Roth|2020-08-25|Não\n",
      "emd90 | Chang Chase|2020-12-02|Não\n",
      "emd91 | Bell Barr|2019-04-02|Não\n",
      "emd92 | Mccormick Daniel|2019-12-13|Apto\n",
      "emd93 | Levine Lilian|2020-02-19|Apto\n",
      "emd94 | Curry Cunningham|2020-04-09|Apto\n",
      "emd95 | Chaney Dalton|2020-11-24|Não\n",
      "emd96 | Poole Chrystal|2020-03-14|Apto\n",
      "emd97 | Wise Joanne|2019-10-19|Não\n",
      "emd98 | Gay Douglas|2021-02-15|Apto\n",
      "emd99 | Best Glenn|2021-01-13|Apto\n"
     ]
    }
   ],
   "source": [
    "listarDataset(BD)"
   ]
  },
  {
   "cell_type": "markdown",
   "metadata": {},
   "source": [
    "## Consulta de um registo (exercício 3)\n",
    "\n",
    "Especifica uma função que, dado o id de um EMD, coloca a sua informação no monitor."
   ]
  },
  {
   "cell_type": "code",
   "execution_count": 23,
   "metadata": {},
   "outputs": [
    {
     "ename": "SyntaxError",
     "evalue": "unexpected EOF while parsing (<ipython-input-23-8ffdb17f6477>, line 5)",
     "output_type": "error",
     "traceback": [
      "\u001b[1;36m  File \u001b[1;32m\"<ipython-input-23-8ffdb17f6477>\"\u001b[1;36m, line \u001b[1;32m5\u001b[0m\n\u001b[1;33m    \u001b[0m\n\u001b[1;37m    ^\u001b[0m\n\u001b[1;31mSyntaxError\u001b[0m\u001b[1;31m:\u001b[0m unexpected EOF while parsing\n"
     ]
    }
   ],
   "source": [
    "# Consulta de um registo\n",
    "def consultarDataset(bd, id):\n",
    "    for e in bd:\n",
    "        \n",
    "                 "
   ]
  },
  {
   "cell_type": "markdown",
   "metadata": {},
   "source": [
    "## Modalidades (exercício4)\n",
    "Especifica um função que dá como resultado uma lista de modalidades ordenada alfabeticamente e sem repetições."
   ]
  },
  {
   "cell_type": "code",
   "execution_count": 24,
   "metadata": {},
   "outputs": [],
   "source": [
    "def modalidades(bd):\n",
    "    modalidades=[]\n",
    "    for e in bd: \n",
    "        if(e[6] not in modalidades):\n",
    "            modalidades.append(e[6])\n",
    "    modalidades.sort() #ordena alfabeticamente \n",
    "    return modalidades"
   ]
  },
  {
   "cell_type": "code",
   "execution_count": 25,
   "metadata": {},
   "outputs": [
    {
     "name": "stdout",
     "output_type": "stream",
     "text": [
      "['Andebol', 'Atletismo', 'BTT', 'Badminton', 'Basquetebol', 'Ciclismo', 'Dança', 'Equitação', 'Esgrima', 'Futebol', 'Karaté', 'Orientação', 'Parapente', 'Patinagem', 'Triatlo']\n"
     ]
    }
   ],
   "source": [
    "print (modalidades(BD))"
   ]
  },
  {
   "cell_type": "markdown",
   "metadata": {},
   "source": [
    "## Distribuição por modalidade (exercício 5)\n",
    "\n",
    "Especifica uma função que dá como resultado uma lista de pares indicando quantos EMD estão registados em cada modalidade."
   ]
  },
  {
   "cell_type": "code",
   "execution_count": 26,
   "metadata": {},
   "outputs": [],
   "source": [
    "def distribPorModalidade(bd):\n",
    "    distribuicao= {}\n",
    "    for e in bd:\n",
    "        if e[6] in distribuicao.keys():\n",
    "            distribuicao[e[6]]=distribuicao[e[6]] +1\n",
    "        else:\n",
    "            distribuicao[e[6]]=1\n",
    "    return distribuicao"
   ]
  },
  {
   "cell_type": "code",
   "execution_count": 27,
   "metadata": {},
   "outputs": [
    {
     "name": "stdout",
     "output_type": "stream",
     "text": [
      "{'BTT': 29, 'Ciclismo': 23, 'Basquetebol': 24, 'Andebol': 21, 'Futebol': 21, 'Atletismo': 16, 'Equitação': 13, 'Patinagem': 14, 'Orientação': 17, 'Triatlo': 23, 'Dança': 22, 'Karaté': 21, 'Badminton': 24, 'Esgrima': 15, 'Parapente': 17}\n"
     ]
    }
   ],
   "source": [
    "print(distribPorModalidade(BD))"
   ]
  },
  {
   "cell_type": "markdown",
   "metadata": {},
   "source": [
    "## Distribuição por clubes (exercício 6)\n",
    "\n",
    "Especifica uma função que dá como resultado uma lista de pares indicando quantos EMD estão registados por cada clube."
   ]
  },
  {
   "cell_type": "code",
   "execution_count": 28,
   "metadata": {},
   "outputs": [],
   "source": [
    "def distribPorClube(bd):\n",
    "    distribuicao= {}\n",
    "    for e in bd:\n",
    "        if e[7] in distribuicao.keys():\n",
    "            distribuicao[e[6]]=distribuicao[e[7]] +1\n",
    "        else:\n",
    "            distribuicao[e[7]]=1\n",
    "    return distribuicao"
   ]
  },
  {
   "cell_type": "code",
   "execution_count": 29,
   "metadata": {},
   "outputs": [
    {
     "name": "stdout",
     "output_type": "stream",
     "text": [
      "{'ACRroriz': 1, 'ACDRcrespos': 1, 'Vitoria': 1, 'AVCfamalicão': 1, 'Futebol': 2, 'AmigosMontanha': 1, 'Equitação': 2, 'EDViana': 1, 'GDGoma': 1, 'Basquetebol': 2, 'Patinagem': 2, 'Triatlo': 2, 'SCBraga': 1, 'ABCbraga': 1, 'Atletismo': 2, 'Karaté': 2, 'BTT': 2, 'Ciclismo': 2, 'Badminton': 2, 'Dança': 2, 'Andebol': 2, 'Esgrima': 2, 'Parapente': 2, 'Orientação': 2}\n"
     ]
    }
   ],
   "source": [
    "print(distribPorClube(BD))"
   ]
  },
  {
   "cell_type": "markdown",
   "metadata": {},
   "source": [
    "## Distribuição por ano (exercício 7)\n",
    "\n",
    "Especifica uma função que dá como resultado uma lista de pares indicando quantos EMD estão registados por cada ano."
   ]
  },
  {
   "cell_type": "code",
   "execution_count": 30,
   "metadata": {},
   "outputs": [],
   "source": [
    "def distribPorAno(bd):\n",
    "    distribuicao= {}\n",
    "    for e in bd:\n",
    "        ano=e[1][0:4]\n",
    "        if ano in distribuicao.keys():\n",
    "            distribuicao[ano]=distribuicao[ano] +1\n",
    "        else:\n",
    "            distribuicao[ano]=1\n",
    "    return distribuicao"
   ]
  },
  {
   "cell_type": "code",
   "execution_count": 31,
   "metadata": {},
   "outputs": [
    {
     "name": "stdout",
     "output_type": "stream",
     "text": [
      "{'2020': 138, '2019': 145, '2021': 17}\n"
     ]
    }
   ],
   "source": [
    "print (distribPorAno(BD))"
   ]
  },
  {
   "cell_type": "markdown",
   "metadata": {},
   "source": [
    "## Distribuição parametrizada (exercício 8)\n",
    "\n",
    "Especifica uma função que permita calcular uma distribuição por qualquer um dos campos da BD."
   ]
  },
  {
   "cell_type": "code",
   "execution_count": 32,
   "metadata": {},
   "outputs": [],
   "source": [
    "def distrib(bd,index): #assim generalizamos\n",
    "    distribuicao= {}\n",
    "    for e in bd:\n",
    "        if e[index] in distribuicao.keys():\n",
    "            distribuicao[e[index]]=distribuicao[e[index]] +1\n",
    "        else:\n",
    "            distribuicao[e[index]]=1\n",
    "    return distribuicao"
   ]
  },
  {
   "cell_type": "code",
   "execution_count": 33,
   "metadata": {},
   "outputs": [
    {
     "name": "stdout",
     "output_type": "stream",
     "text": [
      "{'ACRroriz': 37, 'ACDRcrespos': 41, 'Vitoria': 32, 'AVCfamalicão': 31, 'AmigosMontanha': 35, 'EDViana': 34, 'GDGoma': 26, 'SCBraga': 34, 'ABCbraga': 30}\n"
     ]
    }
   ],
   "source": [
    "print( distrib(BD,7)) #assim, vemos por clubes "
   ]
  },
  {
   "cell_type": "markdown",
   "metadata": {},
   "source": [
    "# Gráficos\n",
    "\n",
    "## Gráfico da distribuição por curso (exercício 8)\n",
    "\n",
    "Especifica uma função que faz o plot dum gráfico com a distribuição de alunos por modalidade."
   ]
  },
  {
   "cell_type": "code",
   "execution_count": 45,
   "metadata": {},
   "outputs": [],
   "source": [
    "import matplotlib.pyplot as plt\n",
    "\n",
    "def plotDistribPorModalidade(bd):\n",
    "    modalidades= distribPorModalidade(bd)\n",
    "    x=modalidades.keys()\n",
    "    y=[]\n",
    "    for i in x:\n",
    "        y.append(modalidades[i])\n",
    "    plt.bar(x,y,width=0.8 , color= ['blue', 'pink'])\n",
    "    plt.xlabel('Modalidade')\n",
    "    plt.xticks(rotation=90)\n",
    "    plt.ylabel('Nº de alunos')\n",
    "    plt.title('Distribuição de alunos por modalidade')\n",
    "    \n",
    "    plt.show()\n",
    "    "
   ]
  },
  {
   "cell_type": "code",
   "execution_count": 46,
   "metadata": {},
   "outputs": [
    {
     "data": {
      "image/png": "[encoded data removed]",
      "text/plain": [
       "<Figure size 432x288 with 1 Axes>"
      ]
     },
     "metadata": {
      "needs_background": "light"
     },
     "output_type": "display_data"
    }
   ],
   "source": [
    "plotDistribPorModalidade(BD)"
   ]
  },
  {
   "cell_type": "markdown",
   "metadata": {},
   "source": [
    "## Gráfico duma distribuição qualquer (exercício 9)\n",
    "\n",
    "Especifica uma função que faz o plot dum gráfico com a distribuição passada como argumento.\n",
    "\n",
    "Nota: Que parâmetros são necessários para ter uma função genérica que trace o gráfico para qualquer distribuição?\n"
   ]
  },
  {
   "cell_type": "code",
   "execution_count": 50,
   "metadata": {},
   "outputs": [],
   "source": [
    "import matplotlib.pyplot as plt\n",
    "def plotDistrib(bd,index,oque):\n",
    "    dist=distrib(bd,index)\n",
    "    x=dist.keys()\n",
    "    y=[]\n",
    "    for i in dist:\n",
    "        y.append(dist[i])\n",
    "        \n",
    "    plt.bar(x,y,width=0.8, color= ['orange', 'gold'])\n",
    "    plt.xlabel(oque)\n",
    "    plt.xticks(rotation=90)\n",
    "    plt.ylabel('Quantidade')\n",
    "    plt.title('Distribuição')\n",
    "    plt.show()\n",
    "    "
   ]
  },
  {
   "cell_type": "code",
   "execution_count": 51,
   "metadata": {},
   "outputs": [
    {
     "data": {
      "image/png": "[encoded data removed]",
      "text/plain": [
       "<Figure size 432x288 with 1 Axes>"
      ]
     },
     "metadata": {
      "needs_background": "light"
     },
     "output_type": "display_data"
    },
    {
     "data": {
      "image/png": "[encoded data removed]",
      "text/plain": [
       "<Figure size 432x288 with 1 Axes>"
      ]
     },
     "metadata": {
      "needs_background": "light"
     },
     "output_type": "display_data"
    }
   ],
   "source": [
    "plotDistrib(BD, 7, \"Clube\")\n",
    "plotDistrib(BD, 4, \"Género\")"
   ]
  },
  {
   "cell_type": "code",
   "execution_count": null,
   "metadata": {},
   "outputs": [],
   "source": []
  }
 ],
 "metadata": {
  "interpreter": {
   "hash": "aee8b7b246df8f9039afb4144a1f6fd8d2ca17a180786b69acc140d282b71a49"
  },
  "kernelspec": {
   "display_name": "Python 3",
   "language": "python",
   "name": "python3"
  },
  "language_info": {
   "codemirror_mode": {
    "name": "ipython",
    "version": 3
   },
   "file_extension": ".py",
   "mimetype": "text/x-python",
   "name": "python",
   "nbconvert_exporter": "python",
   "pygments_lexer": "ipython3",
   "version": "3.8.3"
  }
 },
 "nbformat": 4,
 "nbformat_minor": 4
}
