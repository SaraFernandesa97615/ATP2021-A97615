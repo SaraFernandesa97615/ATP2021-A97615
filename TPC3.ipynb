{
 "cells": [
  {
   "cell_type": "markdown",
   "metadata": {},
   "source": [
    "# Título: função \"bubblesort\"\n",
    "#### Data inicial: 2021-10-27\n",
    "#### Data final: 2021-10-27\n",
    "#### Supervisor: José Carlos Leite Ramalho\n",
    "#### Autor: Sara Fernandes, a97615\n",
    "#### Resumo: O objetivo desta função é ordenar uma lista, comparando dois elementos de cada vez. Começamos por percorrer a lista e comparamos os dois elementos, se o primeiro for maior que o segundo, então eles vão trocar de posição entre si. \n",
    "\n"
   ]
  },
  {
   "cell_type": "code",
   "execution_count": 14,
   "metadata": {},
   "outputs": [
    {
     "name": "stdout",
     "output_type": "stream",
     "text": [
      "A lista ordenada é a seguinte:  [2, 4, 6, 14, 15, 17]\n"
     ]
    }
   ],
   "source": [
    "def bubblesort(list):  \n",
    "    for i in range (0,len(list)-1):\n",
    "        for j in range (len(list)-1):\n",
    "            if (list[j]>list[j+1]):\n",
    "                var=list[j]\n",
    "                list[j]=list[j+1]\n",
    "                list[j+1]=var    \n",
    "                \n",
    "                  \n",
    "    return list\n",
    "    \n",
    "list=[17,2,6,4,14,15]\n",
    "print(\"A lista ordenada é a seguinte: \", bubblesort(list))  "
   ]
  },
  {
   "cell_type": "code",
   "execution_count": null,
   "metadata": {},
   "outputs": [],
   "source": []
  }
 ],
 "metadata": {
  "kernelspec": {
   "display_name": "Python 3",
   "language": "python",
   "name": "python3"
  },
  "language_info": {
   "codemirror_mode": {
    "name": "ipython",
    "version": 3
   },
   "file_extension": ".py",
   "mimetype": "text/x-python",
   "name": "python",
   "nbconvert_exporter": "python",
   "pygments_lexer": "ipython3",
   "version": "3.8.3"
  }
 },
 "nbformat": 4,
 "nbformat_minor": 4
}
